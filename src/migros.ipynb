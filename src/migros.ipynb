{
 "cells": [
  {
   "cell_type": "code",
   "execution_count": null,
   "metadata": {},
   "outputs": [],
   "source": [
    "\n",
    "from bs4 import BeautifulSoup\n",
    "import requests"
   ]
  },
  {
   "cell_type": "code",
   "execution_count": null,
   "metadata": {},
   "outputs": [],
   "source": [
    "BASE_URL = \"https://www.migros.ch/en\"\n",
    "response = requests.get(BASE_URL)\n",
    "response.status_code  # Should return 200 if the request was successful\n"
   ]
  },
  {
   "cell_type": "code",
   "execution_count": null,
   "metadata": {},
   "outputs": [],
   "source": [
    "from pymongo.mongo_client import MongoClient\n",
    "from pymongo.server_api import ServerApi\n",
    "from urllib.parse import quote_plus\n",
    "from dotenv import load_dotenv\n",
    "import os\n",
    "\n",
    "# Load environment variables from .env file\n",
    "load_dotenv()\n",
    "\n",
    "# Retrieve username and password from environment variables\n",
    "MONGODB_USERNAME = os.getenv('MONGO_USERNAME')\n",
    "MONGODB_PASSWORD = quote_plus(os.getenv('MONGO_PASSWORD'))\n",
    "MONGO_DB_NAME = os.getenv('MONGO_DB_NAME')\n",
    "\n",
    "\n",
    "# Construct the MongoDB URI\n",
    "MONGODB_URI = f\"mongodb+srv://{MONGODB_USERNAME}:{MONGODB_PASSWORD}@{MONGO_DB_NAME}.drzjb.mongodb.net/?retryWrites=true&w=majority&appName={MONGO_DB_NAME}\"\n",
    "\n",
    "# Create a new client and connect to the server\n",
    "client = MongoClient(MONGODB_URI, server_api=ServerApi('1'))\n",
    "\n",
    "# Send a ping to confirm a successful connection\n",
    "try:\n",
    "    db = client[MONGO_DB_NAME] \n",
    "    collections = db.list_collection_names()\n",
    "\n",
    "    print(\"Existing collections:\", collections)\n",
    "except Exception as e:\n",
    "    print(e)\n"
   ]
  },
  {
   "cell_type": "code",
   "execution_count": null,
   "metadata": {},
   "outputs": [],
   "source": [
    "# MongoDB setup\n",
    "from services.mongo_service import MongoService\n",
    "from migros_scraper import MigrosScraper\n",
    "\n",
    "\n",
    "\n",
    "mongo_service = MongoService(uri=MONGODB_URI, db_name=MONGO_DB_NAME)\n",
    "\n",
    "# Initialize the scraper\n",
    "scraper = MigrosScraper(mongo_service=mongo_service)\n",
    "\n",
    "try:\n",
    "    # Scrape level 1 categories\n",
    "    base_categories = scraper.get_base_categories()\n",
    "    print(\"Base Categories:\", base_categories)\n",
    "\n",
    "    # Step 2: For each base category, scrape it\n",
    "    scraper.scrape_categories_from_base()\n",
    "    print(scraper.driver.requests)\n",
    "except Exception as e:\n",
    "    print(e)\n",
    "    scraper.close()\n",
    "    mongo_service.close()\n",
    "\n",
    "# Close the scraper\n",
    "scraper.close()\n",
    "mongo_service.close()"
   ]
  },
  {
   "cell_type": "code",
   "execution_count": null,
   "metadata": {},
   "outputs": [],
   "source": []
  }
 ],
 "metadata": {
  "kernelspec": {
   "display_name": "wdb-web-daten-beschaffung-t2-GcZfR-py3.12",
   "language": "python",
   "name": "python3"
  },
  "language_info": {
   "codemirror_mode": {
    "name": "ipython",
    "version": 3
   },
   "file_extension": ".py",
   "mimetype": "text/x-python",
   "name": "python",
   "nbconvert_exporter": "python",
   "pygments_lexer": "ipython3",
   "version": "3.12.6"
  }
 },
 "nbformat": 4,
 "nbformat_minor": 2
}

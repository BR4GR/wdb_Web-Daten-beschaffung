{
  "cells": [
    {
      "cell_type": "code",
      "execution_count": null,
      "metadata": {
        "colab": {
          "base_uri": "https://localhost:8080/",
          "height": 52
        },
        "id": "rTpXxdgJ3xja",
        "outputId": "2ef02316-d94b-42ed-8fc9-e39e2ba7d794"
      },
      "outputs": [],
      "source": [
        "import re\n",
        "\n",
        "whatIsRegEx = \"A regular expression (or RE) specifies a set of strings that matches it; the functions in this module let you check if a particular string matches a given regular expression (or if a given regular expression matches a particular string, which comes down to the same thing).\"\n",
        "\n",
        "\n",
        "matche = re.search('matche..',whatIsRegEx)\n",
        "if matche is not None:\n",
        "  print(matche)\n",
        "  print(matche.group(0))"
      ]
    },
    {
      "cell_type": "markdown",
      "metadata": {
        "id": "6BfrUXmc417Y"
      },
      "source": [
        "Finden folgende Gruppen (siehe https://docs.python.org/2/library/re.html für RegExp in python)\n",
        "\n",
        "\n",
        "*   expression\n",
        "*   module\n",
        "*   func\n",
        "\n",
        "\n"
      ]
    },
    {
      "cell_type": "code",
      "execution_count": null,
      "metadata": {
        "id": "M074aFWp4sO5"
      },
      "outputs": [],
      "source": [
        "# TODO: put here your code"
      ]
    },
    {
      "cell_type": "markdown",
      "metadata": {
        "id": "Im0DXfaC6Mdy"
      },
      "source": [
        "Man kann RegEx auch für das Parsen/Einlesen von strukturierten Daten."
      ]
    },
    {
      "cell_type": "code",
      "execution_count": null,
      "metadata": {
        "colab": {
          "base_uri": "https://localhost:8080/",
          "height": 100
        },
        "id": "n36mzCL94p5D",
        "outputId": "1c5cb704-9270-45c9-c691-6625ea7efb11"
      },
      "outputs": [],
      "source": [
        "htmlCode = \"<html><body><H1> Hello World! </H1> <p>Just checking if somebody is there... </p></body></html>\"\n",
        "import IPython\n",
        "IPython.display.HTML(htmlCode)"
      ]
    },
    {
      "cell_type": "markdown",
      "metadata": {
        "id": "UkgkTYWKAdv-"
      },
      "source": [
        "Lesen wir den Inhalt der Hauptzeile aus.\n"
      ]
    },
    {
      "cell_type": "code",
      "execution_count": null,
      "metadata": {
        "colab": {
          "base_uri": "https://localhost:8080/",
          "height": 35
        },
        "id": "IvkNVsS78YKT",
        "outputId": "8874270d-c59a-404c-caa7-8eb925a59051"
      },
      "outputs": [],
      "source": [
        "re.search(\"<H1>.*</H1>\", htmlCode).group(0)[4:-5]"
      ]
    },
    {
      "cell_type": "markdown",
      "metadata": {
        "id": "6MB2v9fwC259"
      },
      "source": [
        "Extrahiere bitte die Emails von folgenden String"
      ]
    },
    {
      "cell_type": "code",
      "execution_count": null,
      "metadata": {
        "id": "_030N6kAC1HC"
      },
      "outputs": [],
      "source": [
        "textEmails = '@geoffreyhinton purple alice@google.com, blah monkey bob@abc.com blah dishwasher '\n",
        "# TODO use regexp to extract from textEmails the emails put in the list emailsExtracted\n",
        "\n"
      ]
    },
    {
      "cell_type": "markdown",
      "metadata": {
        "id": "TfYr-mG0hUW7"
      },
      "source": [
        "Check for multiple matches (greedy vs non greedy)\n"
      ]
    },
    {
      "cell_type": "code",
      "execution_count": null,
      "metadata": {
        "id": "MfonzAmRUMGX"
      },
      "outputs": [],
      "source": []
    },
    {
      "cell_type": "markdown",
      "metadata": {
        "id": "9leAcRS4ArNS"
      },
      "source": [
        "Versuchen wir jetzt längere Texte zu verarbeiten."
      ]
    },
    {
      "cell_type": "code",
      "execution_count": null,
      "metadata": {
        "colab": {
          "base_uri": "https://localhost:8080/"
        },
        "id": "gw6x_-o2regv",
        "outputId": "3785a02a-bb93-48f6-d1d1-acb41dfbaa59"
      },
      "outputs": [],
      "source": [
        "import nltk\n",
        "nltk.download('gutenberg')"
      ]
    },
    {
      "cell_type": "code",
      "execution_count": null,
      "metadata": {
        "id": "0wzeL6b43odV"
      },
      "outputs": [],
      "source": [
        " emma = nltk.corpus.gutenberg.words('austen-emma.txt')"
      ]
    },
    {
      "cell_type": "markdown",
      "metadata": {
        "id": "JzerHkAxozCO"
      },
      "source": [
        "emma ist kein String an sich, es ist ein array aus Strings (siehe type(emma)). https://www.nltk.org/api/nltk.corpus.reader.html#nltk.corpus.reader.util.StreamBackedCorpusView\n",
        "\n",
        "Siehe: https://www.geeksforgeeks.org/python-convert-list-characters-string/?ref=lbp oder https://stackoverflow.com/questions/21948019/python-untokenize-a-sentence"
      ]
    },
    {
      "cell_type": "markdown",
      "metadata": {
        "id": "XrgA_2r0JrXJ"
      },
      "source": [
        "Finde wo das Wort \"horse\" auftaucht, und gib bitte den Kontext und Position an:\n"
      ]
    },
    {
      "cell_type": "code",
      "execution_count": null,
      "metadata": {
        "id": "uxLt91ASmfQ5"
      },
      "outputs": [],
      "source": []
    },
    {
      "cell_type": "markdown",
      "metadata": {
        "id": "XLJMB_J6D43s"
      },
      "source": [
        "Now, let's dive in real world needs:"
      ]
    },
    {
      "cell_type": "code",
      "execution_count": null,
      "metadata": {
        "id": "mHayccPr-xdY"
      },
      "outputs": [],
      "source": [
        "import requests\n",
        "mensaPlan = requests.get(\"https://fhnw.sv-restaurant.ch/de/menuplan/\")"
      ]
    },
    {
      "cell_type": "code",
      "execution_count": null,
      "metadata": {
        "colab": {
          "base_uri": "https://localhost:8080/",
          "height": 55
        },
        "id": "Oqf1n2Q2_HRw",
        "outputId": "65ed0c05-327c-4cef-c660-623c6f30ca32"
      },
      "outputs": [],
      "source": [
        "day_names = ['Montag', 'Dienstag', 'Mittwoch', 'Donnerstag', 'Freitag', 'Samstag', 'Sonntag']\n",
        "import datetime\n",
        "day_name = day_names[datetime.datetime.today().weekday()]\n",
        "content=str(mensaPlan.content)[2:-1]\n",
        "print(content)"
      ]
    },
    {
      "cell_type": "markdown",
      "metadata": {
        "id": "qryF4voNYX5I"
      },
      "source": [
        "Finde was es heute zur Essensauswahl gibt"
      ]
    },
    {
      "cell_type": "code",
      "execution_count": null,
      "metadata": {
        "id": "l_u5FEPS_Vh-"
      },
      "outputs": [],
      "source": [
        "# Parse html with relevant regexp"
      ]
    },
    {
      "cell_type": "markdown",
      "metadata": {
        "id": "tG74wHqlUXUU"
      },
      "source": [
        "Erweiterte Aufgabe: gib aus, was es diese Woche zur Auswahl gibt!"
      ]
    },
    {
      "cell_type": "code",
      "execution_count": null,
      "metadata": {
        "id": "6U2ffGEFUW4X"
      },
      "outputs": [],
      "source": []
    },
    {
      "cell_type": "markdown",
      "metadata": {
        "id": "Z-B8LE1lYvX8"
      },
      "source": []
    }
  ],
  "metadata": {
    "colab": {
      "provenance": []
    },
    "kernelspec": {
      "display_name": "Python 3",
      "name": "python3"
    },
    "language_info": {
      "name": "python",
      "version": "3.12.4"
    }
  },
  "nbformat": 4,
  "nbformat_minor": 0
}

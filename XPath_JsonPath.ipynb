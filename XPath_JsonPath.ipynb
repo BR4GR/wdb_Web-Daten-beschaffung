{
  "nbformat": 4,
  "nbformat_minor": 0,
  "metadata": {
    "colab": {
      "provenance": []
    },
    "kernelspec": {
      "name": "python3",
      "display_name": "Python 3"
    }
  },
  "cells": [
    {
      "cell_type": "markdown",
      "metadata": {
        "id": "7chgrhJGUrtR"
      },
      "source": [
        "Let's get the Menu from this week:"
      ]
    },
    {
      "cell_type": "code",
      "metadata": {
        "id": "1rRETNttjV70"
      },
      "source": [
        "import requests\n",
        "mensaPlan = requests.get(\"https://fhnw.sv-restaurant.ch/de/menuplan/\")\n"
      ],
      "execution_count": null,
      "outputs": []
    },
    {
      "cell_type": "markdown",
      "metadata": {
        "id": "XTa6RwJNCkRR"
      },
      "source": [
        "Now let's transform this unstructured text into an xml struture"
      ]
    },
    {
      "cell_type": "code",
      "metadata": {
        "id": "IbcbJrO-Ck-v"
      },
      "source": [
        "from lxml import etree\n",
        "from lxml import html\n",
        "source_code = html.fromstring(mensaPlan.content)"
      ],
      "execution_count": null,
      "outputs": []
    },
    {
      "cell_type": "markdown",
      "metadata": {
        "id": "U8lc3-5iXScX"
      },
      "source": [
        "Although structured we can only access the information in a very difficult way...\n"
      ]
    },
    {
      "cell_type": "code",
      "metadata": {
        "id": "j5R_6qlaVLTB",
        "colab": {
          "base_uri": "https://localhost:8080/"
        },
        "outputId": "3f695e51-c5b4-4298-db61-11e6dbb4873a"
      },
      "source": [
        "obj1=source_code.body.getchildren()[4].getchildren()[0].getchildren()[1].getchildren()[0].getchildren()[0].getchildren()[0].getchildren()[0].getchildren()[0]\n",
        "#show content\n",
        "etree.tostring(obj1)\n",
        "\n",
        "\n",
        "\n"
      ],
      "execution_count": null,
      "outputs": [
        {
          "output_type": "execute_result",
          "data": {
            "text/plain": [
              "b'<a href=\"/de/menuplan/\" target=\"_self\" class=\"act\">Menuplan</a>'"
            ]
          },
          "metadata": {},
          "execution_count": 31
        }
      ]
    },
    {
      "cell_type": "markdown",
      "metadata": {
        "id": "5JLEZa1nZPi3"
      },
      "source": [
        "What are the class/instance methods from obj1?\n"
      ]
    },
    {
      "cell_type": "code",
      "metadata": {
        "id": "J3qeSrcKXdWH"
      },
      "source": [
        "\n",
        "#show attribute and methods of the object obj1\n",
        "dir(obj1)"
      ],
      "execution_count": null,
      "outputs": []
    },
    {
      "cell_type": "code",
      "metadata": {
        "id": "QogXmlUdXcNi"
      },
      "source": [
        "#show the text context\n",
        "obj1.text_content()"
      ],
      "execution_count": null,
      "outputs": []
    },
    {
      "cell_type": "markdown",
      "metadata": {
        "id": "FLo5m_kAVIza"
      },
      "source": [
        "We can put that in a better structure and use xpath"
      ]
    },
    {
      "cell_type": "code",
      "metadata": {
        "id": "QyG1L4cBH_vh"
      },
      "source": [
        "mensaTree=etree.HTML(str(mensaPlan.content)[2:])"
      ],
      "execution_count": null,
      "outputs": []
    },
    {
      "cell_type": "markdown",
      "metadata": {
        "id": "iB-1L4BiX2Bs"
      },
      "source": [
        "Use a xpath expression to get a Menu item (e.g. Purple Hit Beef Burger)"
      ]
    },
    {
      "cell_type": "code",
      "metadata": {
        "id": "46KdtYQQIDra"
      },
      "source": [
        "myXpathExpression = \"\" #TODO fill it\n",
        "print([etree.tostring(tk) for tk in mensaTree.xpath(myXpathExpression)])"
      ],
      "execution_count": null,
      "outputs": []
    },
    {
      "cell_type": "markdown",
      "metadata": {
        "id": "2w8xJ6PiYIJ-"
      },
      "source": [
        "You can display the html in a nice way in a jupyter with following methods"
      ]
    },
    {
      "cell_type": "code",
      "metadata": {
        "id": "QrlWA0qVIH9d"
      },
      "source": [
        "import IPython\n",
        "# you might need to access some items in the array like  mensaTree.xpath(myXpathExpression)[0]\n",
        "# you also might need to check if it is a binary stream and then use .decode(\"utf-8\")\n",
        "IPython.display.HTML(etree.tostring(mensaTree.xpath(myXpathExpression).decode(\"utf-8\")))\n"
      ],
      "execution_count": null,
      "outputs": []
    },
    {
      "cell_type": "markdown",
      "metadata": {
        "id": "uwkOwwyaZtvO"
      },
      "source": [
        "you can show the text content"
      ]
    },
    {
      "cell_type": "code",
      "metadata": {
        "id": "HeiTlYdkIv0Z"
      },
      "source": [
        "mensaTree.xpath(myXpathExpression)[0][0][0][0].text"
      ],
      "execution_count": null,
      "outputs": []
    },
    {
      "cell_type": "markdown",
      "metadata": {
        "id": "_svjidRRaIsB"
      },
      "source": [
        "**JsonPath**\n",
        "\n",
        "\n",
        "Let's get some real world json data and save into a dictionary"
      ]
    },
    {
      "cell_type": "code",
      "metadata": {
        "id": "kGMjsWbmKlDw"
      },
      "source": [
        "import json\n",
        "\n",
        "github_req = requests.get(\"https://api.github.com?callback=foo\")\n",
        "\n",
        "github = json.loads(github_req.content)"
      ],
      "execution_count": null,
      "outputs": []
    },
    {
      "cell_type": "code",
      "metadata": {
        "id": "_DRQBg-WMfN8"
      },
      "source": [
        "github[\"user_search_url\"]"
      ],
      "execution_count": null,
      "outputs": []
    },
    {
      "cell_type": "markdown",
      "metadata": {
        "id": "9dRHAsXgabWB"
      },
      "source": [
        "Usually json responses are also in form of list of json, as in the following example\n"
      ]
    },
    {
      "cell_type": "code",
      "metadata": {
        "id": "kBqME5hWMjb6"
      },
      "source": [
        "ggplot_req = requests.get(\"https://api.github.com/repos/hadley/ggplot2/issues\")"
      ],
      "execution_count": null,
      "outputs": []
    },
    {
      "cell_type": "markdown",
      "metadata": {
        "id": "f26HKtPoanUh"
      },
      "source": [
        "For that we need to"
      ]
    },
    {
      "cell_type": "code",
      "metadata": {
        "id": "OHaCjOPSObB_"
      },
      "source": [
        "!pip install jsonpath_ng"
      ],
      "execution_count": null,
      "outputs": []
    },
    {
      "cell_type": "code",
      "metadata": {
        "id": "dKLgS77IOQZb"
      },
      "source": [
        "from jsonpath_ng import jsonpath, parse\n",
        "import html"
      ],
      "execution_count": null,
      "outputs": []
    },
    {
      "cell_type": "code",
      "metadata": {
        "id": "s5F7aoaIPUyV"
      },
      "source": [
        "#ggplot_dics=html.unescape(str(ggplot_req.content)[2:-2]).decode('string_escape')\n",
        "ggplot_dics=ggplot_req.content.decode('utf-8')"
      ],
      "execution_count": null,
      "outputs": []
    },
    {
      "cell_type": "code",
      "metadata": {
        "id": "4oDsL-8KbFsv"
      },
      "source": [
        "c1=2422\n",
        "ggplot_dics[c1-15:c1+15]"
      ],
      "execution_count": null,
      "outputs": []
    },
    {
      "cell_type": "code",
      "metadata": {
        "id": "QR5QHXwpOk8W"
      },
      "source": [
        "ggplot  = {\"content\":json.loads(ggplot_dics)}"
      ],
      "execution_count": null,
      "outputs": []
    },
    {
      "cell_type": "code",
      "metadata": {
        "id": "gl_oxTZxOZUw"
      },
      "source": [
        "jsonpath_expression = parse('*..user.id')\n",
        "\n",
        "for match in jsonpath_expression.find(ggplot):\n",
        "    print(f'User id: {match.value}')"
      ],
      "execution_count": null,
      "outputs": []
    },
    {
      "cell_type": "code",
      "metadata": {
        "id": "vijl6XalOh9G"
      },
      "source": [
        "#TODO get author_association\n",
        "jsonpath_expression = parse('')\n",
        "\n",
        "for match in jsonpath_expression.find(ggplot):\n",
        "    print(f'author_association: {match.value}')"
      ],
      "execution_count": null,
      "outputs": []
    },
    {
      "cell_type": "code",
      "metadata": {
        "id": "V-Y8578MO7v1"
      },
      "source": [
        "ggplot"
      ],
      "execution_count": null,
      "outputs": []
    },
    {
      "cell_type": "markdown",
      "source": [
        "Nehmen wir andere Daten an, und versuchen wieder verschachtelte Angaben zu extrahieren."
      ],
      "metadata": {
        "id": "ni0_B7rReUBm"
      }
    },
    {
      "cell_type": "code",
      "metadata": {
        "id": "iWVvoKaodCZo"
      },
      "source": [
        "data=\"\"\"[{\n",
        "  \"employees\": [\n",
        "    {\n",
        "      \"id\": 1,\n",
        "      \"name\": \"Pankaj\",\n",
        "      \"salary\": \"10000\"\n",
        "    },\n",
        "    {\n",
        "      \"name\": \"David\",\n",
        "      \"salary\": \"5000\",\n",
        "      \"id\": 2\n",
        "    }\n",
        "  ]\n",
        "}]\"\"\"\n",
        "json_data = json.loads(data)\n",
        "print(json_data)\n",
        "\n",
        "jsonpath_expression = parse('$..employees[*].id')\n",
        "\n",
        "for match in jsonpath_expression.find(json_data):\n",
        "    print(f'Employee id: {match.value}')"
      ],
      "execution_count": null,
      "outputs": []
    },
    {
      "cell_type": "code",
      "metadata": {
        "id": "aJYFwBxedYuc"
      },
      "source": [
        "#todo print the names and salary from the employees (in multiple ways)"
      ],
      "execution_count": null,
      "outputs": []
    }
  ]
}
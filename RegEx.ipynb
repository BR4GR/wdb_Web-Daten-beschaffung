{
  "nbformat": 4,
  "nbformat_minor": 0,
  "metadata": {
    "colab": {
      "provenance": []
    },
    "kernelspec": {
      "name": "python3",
      "display_name": "Python 3"
    }
  },
  "cells": [
    {
      "cell_type": "code",
      "metadata": {
        "id": "rTpXxdgJ3xja",
        "colab": {
          "base_uri": "https://localhost:8080/",
          "height": 52
        },
        "outputId": "2ef02316-d94b-42ed-8fc9-e39e2ba7d794"
      },
      "source": [
        "import re\n",
        "\n",
        "whatIsRegEx = \"A regular expression (or RE) specifies a set of strings that matches it; the functions in this module let you check if a particular string matches a given regular expression (or if a given regular expression matches a particular string, which comes down to the same thing).\"\n",
        "\n",
        "\n",
        "matche = re.search('matche..',whatIsRegEx)\n",
        "if matche is not None:\n",
        "  print(matche)\n",
        "  print(matche.group(0))"
      ],
      "execution_count": null,
      "outputs": [
        {
          "output_type": "stream",
          "text": [
            "<_sre.SRE_Match object; span=(61, 69), match='matches '>\n",
            "matches \n"
          ],
          "name": "stdout"
        }
      ]
    },
    {
      "cell_type": "markdown",
      "metadata": {
        "id": "6BfrUXmc417Y"
      },
      "source": [
        "Finden folgende Gruppen (siehe https://docs.python.org/2/library/re.html für RegExp in python)\n",
        "\n",
        "\n",
        "*   expression\n",
        "*   module\n",
        "*   func\n",
        "\n",
        "\n"
      ]
    },
    {
      "cell_type": "code",
      "metadata": {
        "id": "M074aFWp4sO5"
      },
      "source": [
        "# TODO: put here your code"
      ],
      "execution_count": null,
      "outputs": []
    },
    {
      "cell_type": "markdown",
      "metadata": {
        "id": "Im0DXfaC6Mdy"
      },
      "source": [
        "Man kann RegEx auch für das Parsen/Einlesen von strukturierten Daten."
      ]
    },
    {
      "cell_type": "code",
      "metadata": {
        "id": "n36mzCL94p5D",
        "colab": {
          "base_uri": "https://localhost:8080/",
          "height": 100
        },
        "outputId": "1c5cb704-9270-45c9-c691-6625ea7efb11"
      },
      "source": [
        "htmlCode = \"<html><body><H1> Hello World! </H1> <p>Just checking if somebody is there... </p></body></html>\"\n",
        "import IPython\n",
        "IPython.display.HTML(htmlCode)"
      ],
      "execution_count": null,
      "outputs": [
        {
          "output_type": "execute_result",
          "data": {
            "text/html": [
              "<html><body><H1> Hello World! </H1> <p>Just checking if somebody is there... </p></body></html>"
            ],
            "text/plain": [
              "<IPython.core.display.HTML object>"
            ]
          },
          "metadata": {
            "tags": []
          },
          "execution_count": 57
        }
      ]
    },
    {
      "cell_type": "markdown",
      "metadata": {
        "id": "UkgkTYWKAdv-"
      },
      "source": [
        "Lesen wir den Inhalt der Hauptzeile aus.\n"
      ]
    },
    {
      "cell_type": "code",
      "metadata": {
        "id": "IvkNVsS78YKT",
        "colab": {
          "base_uri": "https://localhost:8080/",
          "height": 35
        },
        "outputId": "8874270d-c59a-404c-caa7-8eb925a59051"
      },
      "source": [
        "re.search(\"<H1>.*</H1>\", htmlCode).group(0)[4:-5]"
      ],
      "execution_count": null,
      "outputs": [
        {
          "output_type": "execute_result",
          "data": {
            "application/vnd.google.colaboratory.intrinsic+json": {
              "type": "string"
            },
            "text/plain": [
              "' Hello World! '"
            ]
          },
          "metadata": {
            "tags": []
          },
          "execution_count": 59
        }
      ]
    },
    {
      "cell_type": "markdown",
      "metadata": {
        "id": "6MB2v9fwC259"
      },
      "source": [
        "Extrahiere bitte die Emails von folgenden String"
      ]
    },
    {
      "cell_type": "code",
      "metadata": {
        "id": "_030N6kAC1HC"
      },
      "source": [
        "textEmails = '@geoffreyhinton purple alice@google.com, blah monkey bob@abc.com blah dishwasher '\n",
        "# TODO use regexp to extract from textEmails the emails put in the list emailsExtracted\n",
        "\n"
      ],
      "execution_count": null,
      "outputs": []
    },
    {
      "cell_type": "markdown",
      "metadata": {
        "id": "TfYr-mG0hUW7"
      },
      "source": [
        "Check for multiple matches (greedy vs non greedy)\n"
      ]
    },
    {
      "cell_type": "code",
      "metadata": {
        "id": "MfonzAmRUMGX"
      },
      "source": [],
      "execution_count": null,
      "outputs": []
    },
    {
      "cell_type": "markdown",
      "metadata": {
        "id": "9leAcRS4ArNS"
      },
      "source": [
        "Versuchen wir jetzt längere Texte zu verarbeiten."
      ]
    },
    {
      "cell_type": "code",
      "metadata": {
        "id": "gw6x_-o2regv",
        "colab": {
          "base_uri": "https://localhost:8080/"
        },
        "outputId": "3785a02a-bb93-48f6-d1d1-acb41dfbaa59"
      },
      "source": [
        "import nltk\n",
        "nltk.download('gutenberg')"
      ],
      "execution_count": null,
      "outputs": [
        {
          "output_type": "stream",
          "text": [
            "[nltk_data] Downloading package gutenberg to /root/nltk_data...\n",
            "[nltk_data]   Unzipping corpora/gutenberg.zip.\n"
          ],
          "name": "stdout"
        },
        {
          "output_type": "execute_result",
          "data": {
            "text/plain": [
              "True"
            ]
          },
          "metadata": {
            "tags": []
          },
          "execution_count": 1
        }
      ]
    },
    {
      "cell_type": "code",
      "metadata": {
        "id": "0wzeL6b43odV"
      },
      "source": [
        " emma = nltk.corpus.gutenberg.words('austen-emma.txt')"
      ],
      "execution_count": null,
      "outputs": []
    },
    {
      "cell_type": "markdown",
      "metadata": {
        "id": "JzerHkAxozCO"
      },
      "source": [
        "emma ist kein String an sich, es ist ein array aus Strings (siehe type(emma)). https://www.nltk.org/api/nltk.corpus.reader.html#nltk.corpus.reader.util.StreamBackedCorpusView\n",
        "\n",
        "Siehe: https://www.geeksforgeeks.org/python-convert-list-characters-string/?ref=lbp oder https://stackoverflow.com/questions/21948019/python-untokenize-a-sentence"
      ]
    },
    {
      "cell_type": "markdown",
      "metadata": {
        "id": "XrgA_2r0JrXJ"
      },
      "source": [
        "Finde wo das Wort \"horse\" auftaucht, und gib bitte den Kontext und Position an:\n"
      ]
    },
    {
      "cell_type": "code",
      "metadata": {
        "id": "uxLt91ASmfQ5"
      },
      "source": [],
      "execution_count": null,
      "outputs": []
    },
    {
      "cell_type": "markdown",
      "metadata": {
        "id": "XLJMB_J6D43s"
      },
      "source": [
        "Now, let's dive in real world needs:"
      ]
    },
    {
      "cell_type": "code",
      "metadata": {
        "id": "mHayccPr-xdY"
      },
      "source": [
        "import requests\n",
        "mensaPlan = requests.get(\"https://fhnw.sv-restaurant.ch/de/menuplan/\")"
      ],
      "execution_count": null,
      "outputs": []
    },
    {
      "cell_type": "code",
      "metadata": {
        "id": "Oqf1n2Q2_HRw",
        "colab": {
          "base_uri": "https://localhost:8080/",
          "height": 55
        },
        "outputId": "65ed0c05-327c-4cef-c660-623c6f30ca32"
      },
      "source": [
        "day_names = ['Montag', 'Dienstag', 'Mittwoch', 'Donnerstag', 'Freitag', 'Samstag', 'Sonntag']\n",
        "import datetime\n",
        "day_name = day_names[datetime.datetime.today().weekday()]\n",
        "content=str(mensaPlan.content)[2:-1]\n",
        "print(content)"
      ],
      "execution_count": null,
      "outputs": [
        {
          "output_type": "stream",
          "text": [
            "<!DOCTYPE html>\\n<!--[if lt IE 9]><html lang=\"de-CH\" class=\"no-js lt-ie11 lt-ie10 lt-ie9 ie\" prefix=\"og: http://ogp.me/ns#\"><![endif]-->\\n<!--[if IE 9]><html itemscope itemtype=\"http://schema.org/WebPage\" lang=\"de-CH\" class=\"no-js lt-ie11 lt-ie10 ie\" prefix=\"og: http://ogp.me/ns#\"><![endif]-->\\n<!--[if gt IE 9]><html itemscope itemtype=\"http://schema.org/WebPage\" lang=\"de-CH\" class=\"no-js\" prefix=\"og: http://ogp.me/ns#\"><![endif]-->\\n<!--[if !IE]><script>if(document.documentMode){document.documentElement.className+=\\' lt-ie\\'+(document.documentMode+1)+\\' ie\\';}</script><![endif]-->\\n<head>\\n\\n<meta charset=\"utf-8\">\\n<!-- \\n\\tconcept, design and production by Netvertising AG, Zurich, Switzerland\\n\\n\\tThis website is powered by TYPO3 - inspiring people to share!\\n\\tTYPO3 is a free open source Content Management Framework initially created by Kasper Skaarhoj and licensed under GNU/GPL.\\n\\tTYPO3 is copyright 1998-2018 of Kasper Skaarhoj. Extensions are copyright of their respective owners.\\n\\tInformation and contribution at https://typo3.org/\\n-->\\n\\n\\n\\n<title>Menuplan - Campus Restaurant | FHNW Brugg-Windisch</title>\\n<meta name=\"generator\" content=\"TYPO3 CMS\">\\n<meta property=\"og:type\" content=\"website\">\\n<meta name=\"viewport\" content=\"width=device-width, user-scalable=yes, minimum-scale=1.0, initial-scale=1.0\">\\n<meta name=\"msapplication-tap-highlight\" content=\"no\">\\n<meta http-equiv=\"X-UA-Compatible\" content=\"IE=edge\">\\n<meta http-equiv=\"Content-Type\" content=\"text/html; charset=utf-8\">\\n<meta name=\"robots\" content=\"index,follow\">\\n<meta name=\"description\" content=\"Abwechslungsreiche und feine Mittagsmenus \\xe2\\x9c\\x94 grosses Salatbuffet \\xe2\\x9c\\x94 T\\xc3\\xa4glich frisch zubereitet: Montag bis Samstag \\xe2\\x9e\\x9c JETZT in Windisch GENIESSEN \\xe2\\x88\\x92 Ihr Restaurant mit Kaffeebar und Take-Away-Angebot.\">\\n<meta property=\"og:url\" content=\"https://fhnw.sv-restaurant.ch/de/menuplan/\">\\n<meta property=\"og:title\" content=\"Menuplan\">\\n<meta property=\"og:description\" content=\"Abwechslungsreiche und feine Mittagsmenus \\xe2\\x9c\\x94 grosses Salatbuffet \\xe2\\x9c\\x94 T\\xc3\\xa4glich frisch zubereitet: Montag bis Samstag \\xe2\\x9e\\x9c JETZT in Windisch GENIESSEN \\xe2\\x88\\x92 Ihr Restaurant mit Kaffeebar und Take-Away-Angebot.\">\\n<meta property=\"og:site_name\" content=\"Campus Restaurant | FHNW Brugg-Windisch\">\\n<meta name=\"twitter:card\" content=\"summary_large_image\">\\n<meta name=\"twitter:description\" content=\"Abwechslungsreiche und feine Mittagsmenus \\xe2\\x9c\\x94 grosses Salatbuffet \\xe2\\x9c\\x94 T\\xc3\\xa4glich frisch zubereitet: Montag bis Samstag \\xe2\\x9e\\x9c JETZT in Windisch GENIESSEN \\xe2\\x88\\x92 Ihr Restaurant mit Kaffeebar und Take-Away-Angebot.\">\\n\\n\\n<link rel=\"stylesheet\" type=\"text/css\" href=\"/typo3temp/compressor/merged-ab05ae95f52d89ef96522680467577f5-c36f76af5d77b97c7aa01d0e49041792.css.gzip?1584102410\" media=\"all\">\\n\\n\\n\\n\\n\\t\\t\\t<script>\\r\\n\\t\\t\\t\\tvar reqBaseUrl=\"/typo3conf/ext/netv_svm_template/Resources/Public/dist/js/lib/\", netvPageOptions = { \\'templateRoot\\' : \\'/typo3conf/ext/netv_svm_template/Resources/Public/dist/\\' };;\\r\\n\\t\\t\\t</script><script src=\"/typo3temp/compressor/controller-696c9f0748c9e4f2bb5a5b63ca3d30f9.js.gzip?1583152909\" type=\"text/javascript\"></script>\\r\\n\\n\\n\\n<script type=\"text/javascript\">var requiredModules = [\"jquery\",\"jquery.shariff\",\"jquery.googleanalytics\"];</script>\\n<script data-main=\"/typo3conf/ext/netv_svm_template/Resources/Public/dist/js/app.js?1591703391\" src=\"/typo3conf/ext/netv_requirejs/Resources/Public/dist/js/lib/vendor/require.js\" async></script>\\n\\t\\t\\t<!--[if lte IE 9]>\\n\\t\\t\\t\\t<link rel=\"stylesheet\" href=\"https://fast.fonts.net/t/1.css?apiType=css&projectid=19d2676c-b1fd-4c06-b6bc-0d6b66e3aaa9\" media=\"all\">\\n\\t\\t\\t<![endif]--><meta itemprop=\"name\" content=\"Menuplan - Campus Restaurant | FHNW Brugg-Windisch\" />\\n<link rel=\"icon\" type=\"image/png\" sizes=\"16x16\" href=\"/typo3conf/ext/netv_svm_template/Resources/Public/media/images/icons/fav-touch/default/favicon/favicon-16x16.png?1504685003\">\\n<link rel=\"icon\" type=\"image/png\" sizes=\"32x32\" href=\"/typo3conf/ext/netv_svm_template/Resources/Public/media/images/icons/fav-touch/default/favicon/favicon-32x32.png?1504685003\">\\n<link rel=\"icon\" type=\"image/png\" sizes=\"96x96\" href=\"/typo3conf/ext/netv_svm_template/Resources/Public/media/images/icons/fav-touch/default/favicon/favicon-96x96.png?1504685003\">\\n<link rel=\"shortcut icon\" href=\"/typo3conf/ext/netv_svm_template/Resources/Public/media/images/icons/fav-touch/default/favicon/favicon.ico?1504685003\">\\n<link rel=\"apple-touch-icon-precomposed\" href=\"/typo3conf/ext/netv_svm_template/Resources/Public/media/images/icons/fav-touch/default/apple-touch-icons/apple-touch-icon-precomposed.png?1504685003\">\\n<link rel=\"apple-touch-icon-precomposed\" sizes=\"60x60\" href=\"/typo3conf/ext/netv_svm_template/Resources/Public/media/images/icons/fav-touch/default/apple-touch-icons/apple-touch-icon-60x60-precomposed.png?1504685003\">\\n<link rel=\"apple-touch-icon-precomposed\" sizes=\"72x72\" href=\"/typo3conf/ext/netv_svm_template/Resources/Public/media/images/icons/fav-touch/default/apple-touch-icons/apple-touch-icon-72x72-precomposed.png?1504685003\">\\n<link rel=\"apple-touch-icon-precomposed\" sizes=\"76x76\" href=\"/typo3conf/ext/netv_svm_template/Resources/Public/media/images/icons/fav-touch/default/apple-touch-icons/apple-touch-icon-76x76-precomposed.png?1504685003\">\\n<link rel=\"apple-touch-icon-precomposed\" sizes=\"114x114\" href=\"/typo3conf/ext/netv_svm_template/Resources/Public/media/images/icons/fav-touch/default/apple-touch-icons/apple-touch-icon-114x114-precomposed.png?1504685003\">\\n<link rel=\"apple-touch-icon-precomposed\" sizes=\"120x120\" href=\"/typo3conf/ext/netv_svm_template/Resources/Public/media/images/icons/fav-touch/default/apple-touch-icons/apple-touch-icon-120x120-precomposed.png?1504685003\">\\n<link rel=\"apple-touch-icon-precomposed\" sizes=\"144x144\" href=\"/typo3conf/ext/netv_svm_template/Resources/Public/media/images/icons/fav-touch/default/apple-touch-icons/apple-touch-icon-144x144-precomposed.png?1504685003\">\\n<link rel=\"apple-touch-icon-precomposed\" sizes=\"152x152\" href=\"/typo3conf/ext/netv_svm_template/Resources/Public/media/images/icons/fav-touch/default/apple-touch-icons/apple-touch-icon-152x152-precomposed.png?1504685003\">\\n<link rel=\"apple-touch-icon-precomposed\" sizes=\"180x180\" href=\"/typo3conf/ext/netv_svm_template/Resources/Public/media/images/icons/fav-touch/default/apple-touch-icons/apple-touch-icon-180x180-precomposed.png?1504685003\">\\n<link rel=\"apple-touch-icon-precomposed\" sizes=\"192x192\" href=\"/typo3conf/ext/netv_svm_template/Resources/Public/media/images/icons/fav-touch/default/apple-touch-icons/apple-touch-icon-192x192-precomposed.png?1504685003\">\\n<link rel=\"manifest\" href=\"/typo3conf/ext/netv_svm_template/Resources/Public/media/images/icons/fav-touch/default/android/manifest.json?1504685003\">\\n<meta name=\"msapplication-config\" content=\"/typo3conf/ext/netv_svm_template/Resources/Public/media/images/icons/fav-touch/default/mstile/browserconfig.xml?1504685003\">\\n<meta itemprop=\"description\" content=\"Abwechslungsreiche und feine Mittagsmenus \\xe2\\x9c\\x94 grosses Salatbuffet \\xe2\\x9c\\x94 T\\xc3\\xa4glich frisch zubereitet: Montag bis Samstag \\xe2\\x9e\\x9c JETZT in Windisch GENIESSEN \\xe2\\x88\\x92 Ihr Restaurant mit Kaffeebar und Take-Away-Angebot.\" />\\n<script type=\"text/javascript\">requiredModules.push(\"jquery.slick.controller\");requiredModules.push(\"jquery.overlay\");requiredModules.push(\"jquery.resizeTitles\");</script>\\n<script type=\"text/javascript\">requiredModules.push(\"jquery.vote-menu-form\");</script>\\n\\n<script type=\"text/javascript\">requiredModules.push(\"jquery.newsletter\");</script>\\n<script type=\"text/javascript\">requiredModules.push(\"jquery.menuplan\");</script>\\n<script type=\"text/javascript\">requiredModules.push(\"iframe-resizer\");</script>\\n<script type=\"text/javascript\">requiredModules.push(\"iframeresize\");</script>\\n</head>\\n<body class=\"de \" id=\"pageid-9157\">\\n\\n<div id=\"browsermessages\"><!--[if lte IE 9]><div class=\"browsermessage nojs\"><div class=\"items\"><div class=\"items-row\"><div class=\"row-item icon\"></div><div class=\"row-item text\"><div class=\"header\">Website nur eingeschr\\xc3\\xa4nkt nutzbar</div><div class=\"message\">Sie surfen mit einem veralteten Webbrowser</div></div></div></div></div><![endif]--><noscript><div class=\"browsermessage\"><div class=\"items\"><div class=\"items-row\"><div class=\"row-item icon\"></div><div class=\"row-item text\"><div class=\"header\" data-text=\"Website nur eingeschr\\xc3\\xa4nkt nutzbar\"></div><div class=\"message\" data-text=\"Bitte aktivieren Sie Javascript, um die Website uneingeschr\\xc3\\xa4nkt nutzen zu k\\xc3\\xb6nnen.\"></div></div></div></div></div></noscript><div class=\"browsermessage\"><div class=\"items\"><div class=\"items-row cookies\"><div class=\"row-item icon\"></div><div class=\"row-item text\"><div class=\"header\" data-text=\"Website nur eingeschr\\xc3\\xa4nkt nutzbar\"></div><div class=\"message\" data-text=\"Bitte aktivieren Sie Cookies, um die Website uneingeschr\\xc3\\xa4nkt nutzen zu k\\xc3\\xb6nnen.\"></div></div></div></div></div></div><div id=\"l-pagewrapper\"><div id=\"l-container\"><header id=\"l-header\" class=\"l-header\"><div id=\"navbar\"><div class=\"l-constrained l-wide\"><div class=\"logo-wrap\"><a href=\"/de/menuplan/\"><img src=\"/typo3conf/ext/netv_svm_template/Resources/Public/media/images/logos/default/logo-header.svg\" alt=\"SV Restaurant\" /></a></div><div class=\"name-wrap\"><a href=\"/de/menuplan/\">\\n\\t\\t\\t\\t\\tCampus Restaurant | FHNW Brugg-Windisch\\n\\t\\t\\t\\t</a></div><div class=\"nav-trigger-wrap\"><a target=\"_self\" onclick=\"netvLib.mainnav.trigger(this, event);\"><span class=\"lines\"></span></a></div></div></div><div id=\"header-content\"><!-- this plugin registered jquery.slick.controller,jquery.overlay,jquery.resizeTitles for RequireJS --><!-- this plugin registered jquery.vote-menu-form for RequireJS --><div class=\"slideshow loading\"><img class=\"preloader\" src=\"/typo3conf/ext/netv_svm_template/Resources/Public/media/images/preloader.svg\" alt=\"Laden...\"><div class=\"slick-slider\"><!-- HEADERCAMPAINS (from fileadmin/content/headercampaigns) -->\\r\\n<!-- BANNERS MENUOFDESIRE WUNSCHMENU (RMADMIN) --><!-- BANNERADS (CMS global, prio >= 80) -->\\r\\n\\r\\n\\r\\n\\t\\t\\r\\n\\t\\r\\n<!-- BANNERADS (Fresh & healthy FRISCH UND GESUND) -->\\r\\n\\t\\r\\n\\t\\t<a href=\"/de/frisch-gesund/\" class=\"single-slide\">\\r\\n\\t\\t\\t\\r\\n\\t<picture class=\"background\">\\r\\n\\t\\t<source srcset=\"/fileadmin/_processed_/5/2/csm_09_03_4f54e9c3d9.jpg, /fileadmin/_processed_/5/2/csm_09_03_012c5965b6.jpg 2x\" media=\"(min-width: 769px)\" />\\r\\n\\t\\t\\r\\n\\t\\t\\t\\t<source srcset=\"/fileadmin/_processed_/0/f/csm_09_03_mobile%402x_27cd6c99a5.jpg, /fileadmin/_processed_/0/f/csm_09_03_mobile%402x_06de333357.jpg 2x\" media=\"(max-width: 768px)\" />\\r\\n\\t\\t\\t\\r\\n\\t\\t<img src=\"/fileadmin/_processed_/5/2/csm_09_03_4f54e9c3d9.jpg\" alt=\"Frisch & gesund\"/>\\r\\n\\t</picture>\\r\\n\\r\\n<div class=\"slide-content-wrap\">\\r\\n\\t<div class=\"slide-content type1\" style=\"background-color: rgba(89, 156, 46, .7);\">\\r\\n\\t\\t<h3>Frisch & gesund</h3>\\r\\n\\t\\t<span class=\"separator\"></span>\\r\\n\\t\\t<span class=\"additional\">Mehr erfahren</span>\\r\\n\\t</div>\\r\\n</div>\\r\\n\\t\\t</a>\\r\\n\\t\\r\\n\\r\\n\\r\\n\\r\\n<!-- BANNERS RMADMIN -->\\n\\t\\n\\t\\t\\n\\t\\t\\t\\t<div class=\"single-slide\">\\n\\t\\t\\t\\t\\t\\n\\t\\t\\t\\t\\t\\t\\n\\t\\t\\t\\t\\t\\t\\n\\t\\t\\t\\t\\t\\t\\t\\n\\n<picture class=\"background\">\\n\\t<source srcset=\"/fileadmin/_processed_/8/0/csm_ganzjahr_kaffee_desktop%402x_36de1ceba6.jpg, /fileadmin/_processed_/8/0/csm_ganzjahr_kaffee_desktop%402x_fd6ed58c89.jpg 2x\" media=\"(min-width: 769px)\" />\\n\\n\\t\\n\\t\\t\\t<source srcset=\"/fileadmin/user_upload/Green/00_RMAdmin_Banner_Sujets/01_Ganzj%C3%A4hrig/Mobile/ganzjahr_kaffee_mobile%402x.jpg, /fileadmin/user_upload/Green/00_RMAdmin_Banner_Sujets/01_Ganzj%C3%A4hrig/Mobile/ganzjahr_kaffee_mobile%402x.jpg 2x\" media=\"(max-width: 768px)\" />\\n\\t\\t\\n\\t<img src=\"/fileadmin/_processed_/8/0/csm_ganzjahr_kaffee_desktop%402x_36de1ceba6.jpg\" alt=\"CampusBar\"/>\\n</picture>\\n<div class=\"slide-content-wrap\">\\n\\t<div class=\"slide-content type2\" style=\"background-color: rgba(153,204,255,.4);\">\\n\\t\\t\\n\\t\\t\\t<h3>CampusBar</h3>\\n\\t\\t\\n\\t\\t\\n\\t\\t\\t<p>\\n\\t\\t\\t\\t<br />\\r\\nWir freuen uns Sie mit vielen neuen Kaffeekreationen und gluschtigen K\\xc3\\xb6stlichkeiten verw\\xc3\\xb6hnen zu d\\xc3\\xbcrfen.\\n\\t\\t\\t</p>\\n\\t\\t\\n\\t\\t\\n\\t</div>\\n</div>\\n\\n\\t\\t\\t\\t\\t\\t\\n\\t\\t\\t\\t\\t\\t\\n\\t\\t\\t\\t\\t\\n\\t\\t\\t\\t</div>\\n\\t\\t\\t\\n\\t\\n\\n\\t\\n\\t\\t\\n\\t\\t\\t\\t<div class=\"single-slide\">\\n\\t\\t\\t\\t\\t\\n\\t\\t\\t\\t\\t\\t\\n\\t\\t\\t\\t\\t\\t\\n\\t\\t\\t\\t\\t\\t\\t\\n\\n<picture class=\"background\">\\n\\t<source srcset=\"/fileadmin/_processed_/3/b/csm_ganzjahr_apero_desktop%402x_891a758632.jpg, /fileadmin/_processed_/3/b/csm_ganzjahr_apero_desktop%402x_da4148cf42.jpg 2x\" media=\"(min-width: 769px)\" />\\n\\n\\t\\n\\t\\t\\t<source srcset=\"/fileadmin/_processed_/c/6/csm_ganzjahr_apero_mobile%402x_d765f94b5e.jpg, /fileadmin/_processed_/c/6/csm_ganzjahr_apero_mobile%402x_d97b9df183.jpg 2x\" media=\"(max-width: 768px)\" />\\n\\t\\t\\n\\t<img src=\"/fileadmin/_processed_/3/b/csm_ganzjahr_apero_desktop%402x_891a758632.jpg\" alt=\"Ap\\xc3\\xa9ro\"/>\\n</picture>\\n<div class=\"slide-content-wrap\">\\n\\t<div class=\"slide-content type2\" style=\"background-color: rgba(0,0,0,.4);\">\\n\\t\\t\\n\\t\\t\\t<h3>Ap\\xc3\\xa9ro</h3>\\n\\t\\t\\n\\t\\t\\n\\t\\t\\t<p>\\n\\t\\t\\t\\tTrotz Corona sicher feiern!<br />\\r\\nFragen Sie nach unserem aktuellen Angebot.<br />\\r\\n<br />\\r\\n\\n\\t\\t\\t</p>\\n\\t\\t\\n\\t\\t\\n\\t</div>\\n</div>\\n\\n\\t\\t\\t\\t\\t\\t\\n\\t\\t\\t\\t\\t\\t\\n\\t\\t\\t\\t\\t\\n\\t\\t\\t\\t</div>\\n\\t\\t\\t\\n\\t\\n\\n\\t\\n\\t\\t\\n\\t\\t\\t\\t<div class=\"single-slide\">\\n\\t\\t\\t\\t\\t\\n\\t\\t\\t\\t\\t\\t\\n\\t\\t\\t\\t\\t\\t\\n\\t\\t\\t\\t\\t\\t\\t\\n\\n<picture class=\"background\">\\n\\t<source srcset=\"/fileadmin/_processed_/5/f/csm_ganzjahr_afterwork_desktop%402x_ff854618b4.jpg, /fileadmin/_processed_/5/f/csm_ganzjahr_afterwork_desktop%402x_972936094d.jpg 2x\" media=\"(min-width: 769px)\" />\\n\\n\\t\\n\\t\\t\\t<source srcset=\"/fileadmin/_processed_/4/c/csm_ganzjahr_afterwork_mobile%402x_86f6b8b957.jpg, /fileadmin/_processed_/4/c/csm_ganzjahr_afterwork_mobile%402x_e28eb40495.jpg 2x\" media=\"(max-width: 768px)\" />\\n\\t\\t\\n\\t<img src=\"/fileadmin/_processed_/5/f/csm_ganzjahr_afterwork_desktop%402x_ff854618b4.jpg\" alt=\"After-Work-Party an der CampusBar!\"/>\\n</picture>\\n<div class=\"slide-content-wrap\">\\n\\t<div class=\"slide-content type2\" style=\"background-color: rgba(0,0,0,.4);\">\\n\\t\\t\\n\\t\\t\\t<h3>After-Work-Party an der CampusBar!</h3>\\n\\t\\t\\n\\t\\t\\n\\t\\t\\t<p>\\n\\t\\t\\t\\tEin Glas, neue Hot Snacks und Freunde \\xe2\\x80\\x93 f\\xc3\\xbcr prickelnde Momente nach der Arbeit.<br />\\r\\n\\n\\t\\t\\t</p>\\n\\t\\t\\n\\t\\t\\n\\t</div>\\n</div>\\n\\n\\t\\t\\t\\t\\t\\t\\n\\t\\t\\t\\t\\t\\t\\n\\t\\t\\t\\t\\t\\n\\t\\t\\t\\t</div>\\n\\t\\t\\t\\n\\t\\n\\n<!-- BANNERADS (CMS global, prio < 80) -->\\r\\n\\r\\n\\r\\n\\t\\t\\r\\n\\t\\t\\t\\r\\n\\t\\t\\t\\t\\r\\n\\t\\t\\t\\t\\t\\t<a href=\"https://www.sv-group.ch/de/wir-tun-alles/#c7050\" target=\"_blank\" class=\"single-slide\">\\r\\n\\t\\t\\t\\t\\t\\t\\t\\r\\n\\t\\t\\t\\t\\t\\t\\t\\t\\r\\n\\t\\t\\t\\t\\t\\t\\t\\t\\r\\n\\t\\t\\t\\t\\t\\t\\t\\t\\r\\n\\t\\t\\t\\t\\t\\t\\t\\t\\t\\n\\n<picture class=\"background\">\\n\\t<source srcset=\"/fileadmin/_processed_/b/4/csm_20200527_SV_Versprechen_Video_Microsite_1540x5902_96370a1a70.jpg, /fileadmin/_processed_/b/4/csm_20200527_SV_Versprechen_Video_Microsite_1540x5902_27a29caed9.jpg 2x\" media=\"(min-width: 769px)\" />\\n\\n\\t\\n\\t\\t\\t<source srcset=\"/fileadmin/_processed_/1/9/csm_20200527_SV_Versprechen_Video_Microsite_570x6402_043b34d447.jpg, /fileadmin/_processed_/1/9/csm_20200527_SV_Versprechen_Video_Microsite_570x6402_0405aa8e0a.jpg 2x\" media=\"(max-width: 768px)\" />\\n\\t\\t\\n\\t<img src=\"/fileadmin/_processed_/b/4/csm_20200527_SV_Versprechen_Video_Microsite_1540x5902_96370a1a70.jpg\" />\\n</picture>\\r\\n\\t\\t\\t\\t\\t\\t\\t\\t\\r\\n\\t\\t\\t\\t\\t\\t\\t\\r\\n\\t\\t\\t\\t\\t\\t</a>\\r\\n\\t\\t\\t\\t\\t\\r\\n\\t\\t\\t\\r\\n\\t\\t\\r\\n\\t\\r\\n<!-- BANNERADS (CMS local) -->\\r\\n\\t\\r\\n\\t\\t\\r\\n\\t\\t\\t\\t<a href=\"/de/catering/\" target=\"_self\" class=\"single-slide\">\\r\\n\\t\\t\\t\\t\\t\\r\\n\\t\\t\\t\\t\\t\\t\\r\\n\\t\\t\\t\\t\\t\\t\\r\\n\\t\\t\\t\\t\\t\\t\\t\\n\\n<picture class=\"background\">\\n\\t<source srcset=\"/fileadmin/_processed_/3/b/csm_ganzjahr_apero_desktop%402x_891a758632.jpg, /fileadmin/_processed_/3/b/csm_ganzjahr_apero_desktop%402x_da4148cf42.jpg 2x\" media=\"(min-width: 769px)\" />\\n\\n\\t\\n\\t\\t\\t<source srcset=\"/fileadmin/_processed_/c/7/csm_ganzjahr_apero_mobile%402x_432c4f496d.jpg, /fileadmin/_processed_/c/7/csm_ganzjahr_apero_mobile%402x_81e4d9ad40.jpg 2x\" media=\"(max-width: 768px)\" />\\n\\t\\t\\n\\t<img src=\"/fileadmin/_processed_/3/b/csm_ganzjahr_apero_desktop%402x_891a758632.jpg\" alt=\"Catering\"/>\\n</picture>\\n<div class=\"slide-content-wrap\">\\n\\t<div class=\"slide-content type2\" style=\"background-color: rgba(0,0,0,.4)\")}>\\n\\t\\t\\n\\t\\t\\t<h3>Catering</h3>\\n\\t\\t\\n\\t\\t\\n\\t\\t\\t<p>\\n\\t\\t\\t\\tSei es f\\xc3\\xbcr Ihren Ap\\xc3\\xa9ro, Stehlunch oder feierlichen Anlass\\n\\t\\t\\t</p>\\n\\t\\t\\n\\t\\t\\n\\t\\t\\t<span class=\"separator\"></span>\\n\\t\\t\\t<span class=\"additional\">\\n\\t\\t\\t\\tZum Catering Angebot\\n\\t\\t\\t</span>\\n\\t\\t\\n\\t</div>\\n</div>\\n\\r\\n\\t\\t\\t\\t\\t\\t\\r\\n\\t\\t\\t\\t\\t\\t\\r\\n\\t\\t\\t\\t\\t\\r\\n\\t\\t\\t\\t</a>\\r\\n\\t\\t\\t\\r\\n\\t\\r\\n\\r\\n</div><div class=\"slides-nav-container\"></div></div></div></header><div id=\"mainnav\"><div class=\"inner\"><nav class=\"main\"><ul class=\"no-bullets\"><li><a href=\"/de/menuplan/\" target=\"_self\" class=\"act\">Menuplan</a></li><li><a href=\"/de/catering/\" target=\"_self\">Catering</a></li><li><a href=\"/de/frisch-gesund/\" target=\"_self\">Frisch &amp; Gesund</a></li><li><a href=\"/de/ueber-uns/\" target=\"_self\">\\xc3\\x9cber uns</a></li></ul></nav><nav class=\"meta\"><ul class=\"no-bullets\"><li><a href=\"/de/feedback/\" target=\"_self\">Feedback</a></li><li><a href=\"/de/kontakt/\" target=\"_self\">Kontakt</a></li><li><a href=\"/de/disclaimer/\" target=\"_self\">Disclaimer</a></li><li><a href=\"/de/datenschutzerklaerung/\" target=\"_self\">Datenschutzerkl\\xc3\\xa4rung</a></li></ul></nav><nav class=\"mobile\"><ul class=\"switch-restaurant no-bullets\"><li><a href=\"#\" onclick=\"netvLib.restaurantSwitcher.trigger(this, event);\">Weitere Restaurants</a></li></ul></nav></div><nav class=\"parent\"><ul class=\"no-bullets\"><li><a href=\"http://www.sv-restaurant.ch/de/\" target=\"_blank\">www.sv-restaurant.ch</a></li></ul></nav></div><div id=\"restaurant-switcher\"><a href=\"#\" onclick=\"netvLib.restaurantSwitcher.trigger(this, event);\">Weitere Restaurants</a></div><div id=\"restaurant-switcher-overlay\"><a href=\"#\" class=\"restaurant-switcher-close\" onclick=\"netvLib.restaurantSwitcher.trigger(this, event);\"><i></i></a><div class=\"map-wrap\"><div class=\"title\">\\n\\t\\t\\t\\t\\t\\t\\xc3\\x96ffentliche Restaurants in Ihrer Umgebung\\n\\t\\t\\t\\t\\t</div><div class=\"map\"><div class=\"googlemap\" data-ajax-url=\"/de/menuplan/persrest-data.json\"></div></div></div></div><main id=\"l-main\" itemprop=\"mainContentOfPage\"><div class=\"l-constrained l-full l-content\"><div class=\"content content-list-\"><a class=\"anchor\" id=\"c50423\"></a>\\n\\n\\n\\n\\n<!-- this plugin registered jquery.newsletter for RequireJS -->\\n<!-- this plugin registered jquery.menuplan for RequireJS -->\\n\\n<div class=\"menu-plan-wrap\">\\n    \\n    \\n\\t<div class=\"l-constrained l-special\">\\n\\t\\t<div class=\"coe pagetitle\">\\n\\t\\t\\t<h1 class=\"title\">Menuplan</h1>\\n\\t\\t</div>\\n\\n\\t\\t\\n\\n\\t\\t\\n\\t\\t\\t<input id=\"mp-tab1\" name=\"mp-tab\" value=\"\" checked type=\"radio\">\\n\\t\\t\\n\\t\\t\\t<input id=\"mp-tab2\" name=\"mp-tab\" value=\"\"  type=\"radio\">\\n\\t\\t\\n\\t\\t\\t<input id=\"mp-tab3\" name=\"mp-tab\" value=\"\"  type=\"radio\">\\n\\t\\t\\n\\t\\t\\t<input id=\"mp-tab4\" name=\"mp-tab\" value=\"\"  type=\"radio\">\\n\\t\\t\\n\\t\\t\\t<input id=\"mp-tab5\" name=\"mp-tab\" value=\"\"  type=\"radio\">\\n\\t\\t\\n\\n\\t\\t<div class=\"day-nav\">\\n\\t\\t\\t\\n\\t\\t\\t\\t<ul class=\"no-bullets is-horizontal\">\\n\\t\\t\\t\\t\\t\\n\\t\\t\\t\\t\\t\\t<li>\\n\\t\\t\\t\\t\\t\\t\\t<label for=\"mp-tab1\">\\n\\t\\t\\t\\t\\t\\t\\t\\t<span class=\"day\">Di</span>\\n\\t\\t\\t\\t\\t\\t\\t\\t<span class=\"date\">08.09.</span>\\n\\t\\t\\t\\t\\t\\t\\t</label>\\n\\t\\t\\t\\t\\t\\t</li>\\n\\t\\t\\t\\t\\t\\n\\t\\t\\t\\t\\t\\t<li>\\n\\t\\t\\t\\t\\t\\t\\t<label for=\"mp-tab2\">\\n\\t\\t\\t\\t\\t\\t\\t\\t<span class=\"day\">Mi</span>\\n\\t\\t\\t\\t\\t\\t\\t\\t<span class=\"date\">09.09.</span>\\n\\t\\t\\t\\t\\t\\t\\t</label>\\n\\t\\t\\t\\t\\t\\t</li>\\n\\t\\t\\t\\t\\t\\n\\t\\t\\t\\t\\t\\t<li>\\n\\t\\t\\t\\t\\t\\t\\t<label for=\"mp-tab3\">\\n\\t\\t\\t\\t\\t\\t\\t\\t<span class=\"day\">Do</span>\\n\\t\\t\\t\\t\\t\\t\\t\\t<span class=\"date\">10.09.</span>\\n\\t\\t\\t\\t\\t\\t\\t</label>\\n\\t\\t\\t\\t\\t\\t</li>\\n\\t\\t\\t\\t\\t\\n\\t\\t\\t\\t\\t\\t<li>\\n\\t\\t\\t\\t\\t\\t\\t<label for=\"mp-tab4\">\\n\\t\\t\\t\\t\\t\\t\\t\\t<span class=\"day\">Fr</span>\\n\\t\\t\\t\\t\\t\\t\\t\\t<span class=\"date\">11.09.</span>\\n\\t\\t\\t\\t\\t\\t\\t</label>\\n\\t\\t\\t\\t\\t\\t</li>\\n\\t\\t\\t\\t\\t\\n\\t\\t\\t\\t\\t\\t<li>\\n\\t\\t\\t\\t\\t\\t\\t<label for=\"mp-tab5\">\\n\\t\\t\\t\\t\\t\\t\\t\\t<span class=\"day\">Sa</span>\\n\\t\\t\\t\\t\\t\\t\\t\\t<span class=\"date\">12.09.</span>\\n\\t\\t\\t\\t\\t\\t\\t</label>\\n\\t\\t\\t\\t\\t\\t</li>\\n\\t\\t\\t\\t\\t\\n\\t\\t\\t\\t</ul>\\n\\t\\t\\t\\n\\t\\t</div>\\n\\n\\t\\t<div class=\"menu-plan-tabs\">\\n\\t\\t\\t\\n\\t\\t\\t\\t\\t\\n\\t\\t\\t\\t\\t\\t<div id=\"menu-plan-tab1\" class=\"menu-plan-grid\">\\n\\t\\t\\t\\t\\t\\t\\t\\n\\t\\t\\t\\t\\t\\t\\t\\t<div class=\"menu-item\">\\n\\t\\t\\t\\t\\t\\t\\t\\t\\t<div class=\"item-content\">\\n\\t\\t\\t\\t\\t\\t\\t\\t\\t\\t\\n\\t\\t\\t\\t\\t\\t\\t\\t\\t\\t<h2 class=\"menu-title\">Poulet Gyros im Pita Brot</h2>\\n\\t\\t\\t\\t\\t\\t\\t\\t\\t\\t<span class=\"divider\"></span>\\n\\t\\t\\t\\t\\t\\t\\t\\t\\t\\t<p class=\"menu-description\">dazu Joghurt-Knoblauch Sauce, Tomate, Gurke, Eisbergsalat und Pommes Frites</p>\\n\\t\\t\\t\\t\\t\\t\\t\\t\\t\\t<div class=\"menu-prices prices-3\">\\n\\t\\t\\t\\t\\t\\t\\t\\t\\t\\t\\t\\n\\t\\t\\t\\t\\t\\t\\t\\t\\t\\t\\t\\t<span class=\"price\">\\n\\t\\t\\t\\t\\t\\t\\t\\t\\t\\t\\t\\t\\t<span class=\"val\">12.50</span>\\n\\t\\t\\t\\t\\t\\t\\t\\t\\t\\t\\t\\t\\t<span class=\"desc\">INT</span>\\n\\t\\t\\t\\t\\t\\t\\t\\t\\t\\t\\t\\t</span>\\n\\t\\t\\t\\t\\t\\t\\t\\t\\t\\t\\t\\n\\t\\t\\t\\t\\t\\t\\t\\t\\t\\t\\t\\t<span class=\"price\">\\n\\t\\t\\t\\t\\t\\t\\t\\t\\t\\t\\t\\t\\t<span class=\"val\">16.50</span>\\n\\t\\t\\t\\t\\t\\t\\t\\t\\t\\t\\t\\t\\t<span class=\"desc\">EXT</span>\\n\\t\\t\\t\\t\\t\\t\\t\\t\\t\\t\\t\\t</span>\\n\\t\\t\\t\\t\\t\\t\\t\\t\\t\\t\\t\\n\\t\\t\\t\\t\\t\\t\\t\\t\\t\\t</div>\\n\\t\\t\\t\\t\\t\\t\\t\\t\\t\\t\\n\\t\\t\\t\\t\\t\\t\\t\\t\\t\\t<span class=\"menu-provenance\">Herkunft Poulet: Deutschland</span>\\n\\t\\t\\t\\t\\t\\t\\t\\t\\t\\t\\n\\t\\t\\t\\t\\t\\t\\t\\t\\t</div>\\n\\t\\t\\t\\t\\t\\t\\t\\t</div>\\n\\t\\t\\t\\t\\t\\t\\t\\n\\t\\t\\t\\t\\t\\t\\t\\t<div class=\"menu-item\">\\n\\t\\t\\t\\t\\t\\t\\t\\t\\t<div class=\"item-content\">\\n\\t\\t\\t\\t\\t\\t\\t\\t\\t\\t\\n\\t\\t\\t\\t\\t\\t\\t\\t\\t\\t<h2 class=\"menu-title\">Geschmorte Kalbsbrust&shy;schnitte</h2>\\n\\t\\t\\t\\t\\t\\t\\t\\t\\t\\t<span class=\"divider\"></span>\\n\\t\\t\\t\\t\\t\\t\\t\\t\\t\\t<p class=\"menu-description\">an Rotweinsauce, Polenta und Wuzelgem\\xc3\\xbcse</p>\\n\\t\\t\\t\\t\\t\\t\\t\\t\\t\\t<div class=\"menu-prices prices-3\">\\n\\t\\t\\t\\t\\t\\t\\t\\t\\t\\t\\t\\n\\t\\t\\t\\t\\t\\t\\t\\t\\t\\t\\t\\t<span class=\"price\">\\n\\t\\t\\t\\t\\t\\t\\t\\t\\t\\t\\t\\t\\t<span class=\"val\">8.50</span>\\n\\t\\t\\t\\t\\t\\t\\t\\t\\t\\t\\t\\t\\t<span class=\"desc\">INT</span>\\n\\t\\t\\t\\t\\t\\t\\t\\t\\t\\t\\t\\t</span>\\n\\t\\t\\t\\t\\t\\t\\t\\t\\t\\t\\t\\n\\t\\t\\t\\t\\t\\t\\t\\t\\t\\t\\t\\t<span class=\"price\">\\n\\t\\t\\t\\t\\t\\t\\t\\t\\t\\t\\t\\t\\t<span class=\"val\">11.50</span>\\n\\t\\t\\t\\t\\t\\t\\t\\t\\t\\t\\t\\t\\t<span class=\"desc\">EXT</span>\\n\\t\\t\\t\\t\\t\\t\\t\\t\\t\\t\\t\\t</span>\\n\\t\\t\\t\\t\\t\\t\\t\\t\\t\\t\\t\\n\\t\\t\\t\\t\\t\\t\\t\\t\\t\\t</div>\\n\\t\\t\\t\\t\\t\\t\\t\\t\\t\\t\\n\\t\\t\\t\\t\\t\\t\\t\\t\\t\\t<span class=\"menu-provenance\">Herkunft Kalbfleisch: Schweiz</span>\\n\\t\\t\\t\\t\\t\\t\\t\\t\\t\\t\\n\\t\\t\\t\\t\\t\\t\\t\\t\\t</div>\\n\\t\\t\\t\\t\\t\\t\\t\\t</div>\\n\\t\\t\\t\\t\\t\\t\\t\\n\\t\\t\\t\\t\\t\\t\\t\\t<div class=\"menu-item\">\\n\\t\\t\\t\\t\\t\\t\\t\\t\\t<div class=\"item-content\">\\n\\t\\t\\t\\t\\t\\t\\t\\t\\t\\t\\n\\t\\t\\t\\t\\t\\t\\t\\t\\t\\t<h2 class=\"menu-title\">Randen Falafel</h2>\\n\\t\\t\\t\\t\\t\\t\\t\\t\\t\\t<span class=\"divider\"></span>\\n\\t\\t\\t\\t\\t\\t\\t\\t\\t\\t<p class=\"menu-description\">mit Pfefferminz-Joghurt, Quinoa und R\\xc3\\xb6stgem\\xc3\\xbcse</p>\\n\\t\\t\\t\\t\\t\\t\\t\\t\\t\\t<div class=\"menu-prices prices-3\">\\n\\t\\t\\t\\t\\t\\t\\t\\t\\t\\t\\t\\n\\t\\t\\t\\t\\t\\t\\t\\t\\t\\t\\t\\t<span class=\"price\">\\n\\t\\t\\t\\t\\t\\t\\t\\t\\t\\t\\t\\t\\t<span class=\"val\">8.50</span>\\n\\t\\t\\t\\t\\t\\t\\t\\t\\t\\t\\t\\t\\t<span class=\"desc\">INT</span>\\n\\t\\t\\t\\t\\t\\t\\t\\t\\t\\t\\t\\t</span>\\n\\t\\t\\t\\t\\t\\t\\t\\t\\t\\t\\t\\n\\t\\t\\t\\t\\t\\t\\t\\t\\t\\t\\t\\t<span class=\"price\">\\n\\t\\t\\t\\t\\t\\t\\t\\t\\t\\t\\t\\t\\t<span class=\"val\">11.50</span>\\n\\t\\t\\t\\t\\t\\t\\t\\t\\t\\t\\t\\t\\t<span class=\"desc\">EXT</span>\\n\\t\\t\\t\\t\\t\\t\\t\\t\\t\\t\\t\\t</span>\\n\\t\\t\\t\\t\\t\\t\\t\\t\\t\\t\\t\\n\\t\\t\\t\\t\\t\\t\\t\\t\\t\\t</div>\\n\\t\\t\\t\\t\\t\\t\\t\\t\\t\\t\\n\\t\\t\\t\\t\\t\\t\\t\\t\\t\\t\\t<div class=\"menu-labels\">\\n\\t\\t\\t\\t\\t\\t\\t\\t\\t\\t\\t\\t\\n\\t\\t\\t\\t\\t\\t\\t\\t\\t\\t\\t\\t\\t\\n\\t\\t<span class=\"label label-vegetarian has-infobox\">\\n\\t\\t\\t<img class=\"onlyprint\" src=\"/typo3conf/ext/netv_svm_template/Resources/Public/media/images/icons/print/vegetarian.png\" width=\"121\" height=\"121\" alt=\"\" />\\n\\t\\t\\t<div class=\"label-info label-vegetarian \">\\n\\t\\t\\t\\t<a class=\"close\" href=\"#\"><i class=\"ico-close\"></i></a>\\n\\t\\t\\t\\t<div class=\"inner\">\\n\\t\\t\\t\\t\\t<p>Vegetarisch:<br />\\nDieses Menu beinhaltet weder Fleisch noch Fisch.</p>\\n\\t\\t\\t\\t\\t\\n\\t\\t\\t\\t\\t\\t\\n\\t\\t\\t\\t\\t\\t\\n\\t\\t\\t\\t\\t\\t\\n\\t\\t\\t\\t\\t\\t\\n\\t\\t\\t\\t\\t\\t\\t\\n\\t\\t\\t\\t\\t\\t\\n\\t\\t\\t\\t\\t\\n\\t\\t\\t\\t</div>\\n\\t\\t\\t</div>\\n\\t\\t</span>\\n\\t\\n\\t\\t\\t\\t\\t\\t\\t\\t\\t\\t\\t\\t\\n\\t\\t\\t\\t\\t\\t\\t\\t\\t\\t\\t\\t\\n\\t\\t\\t\\t\\t\\t\\t\\t\\t\\t\\t</div>\\n\\t\\t\\t\\t\\t\\t\\t\\t\\t\\t\\n\\t\\t\\t\\t\\t\\t\\t\\t\\t\\t<span class=\"menu-provenance\"></span>\\n\\t\\t\\t\\t\\t\\t\\t\\t\\t\\t\\n\\t\\t\\t\\t\\t\\t\\t\\t\\t</div>\\n\\t\\t\\t\\t\\t\\t\\t\\t</div>\\n\\t\\t\\t\\t\\t\\t\\t\\n\\t\\t\\t\\t\\t\\t\\t\\t<div class=\"menu-item\">\\n\\t\\t\\t\\t\\t\\t\\t\\t\\t<div class=\"item-content\">\\n\\t\\t\\t\\t\\t\\t\\t\\t\\t\\t\\n\\t\\t\\t\\t\\t\\t\\t\\t\\t\\t<h2 class=\"menu-title\">Fleischk\\xc3\\xa4se</h2>\\n\\t\\t\\t\\t\\t\\t\\t\\t\\t\\t<span class=\"divider\"></span>\\n\\t\\t\\t\\t\\t\\t\\t\\t\\t\\t<p class=\"menu-description\">mit Kartoffelsalat und Spiegelei extra (1.50.-)</p>\\n\\t\\t\\t\\t\\t\\t\\t\\t\\t\\t<div class=\"menu-prices prices-3\">\\n\\t\\t\\t\\t\\t\\t\\t\\t\\t\\t\\t\\n\\t\\t\\t\\t\\t\\t\\t\\t\\t\\t\\t\\t<span class=\"price\">\\n\\t\\t\\t\\t\\t\\t\\t\\t\\t\\t\\t\\t\\t<span class=\"val\">7.00</span>\\n\\t\\t\\t\\t\\t\\t\\t\\t\\t\\t\\t\\t\\t<span class=\"desc\">INT</span>\\n\\t\\t\\t\\t\\t\\t\\t\\t\\t\\t\\t\\t</span>\\n\\t\\t\\t\\t\\t\\t\\t\\t\\t\\t\\t\\n\\t\\t\\t\\t\\t\\t\\t\\t\\t\\t\\t\\t<span class=\"price\">\\n\\t\\t\\t\\t\\t\\t\\t\\t\\t\\t\\t\\t\\t<span class=\"val\">10.00</span>\\n\\t\\t\\t\\t\\t\\t\\t\\t\\t\\t\\t\\t\\t<span class=\"desc\">EXT</span>\\n\\t\\t\\t\\t\\t\\t\\t\\t\\t\\t\\t\\t</span>\\n\\t\\t\\t\\t\\t\\t\\t\\t\\t\\t\\t\\n\\t\\t\\t\\t\\t\\t\\t\\t\\t\\t</div>\\n\\t\\t\\t\\t\\t\\t\\t\\t\\t\\t\\n\\t\\t\\t\\t\\t\\t\\t\\t\\t\\t<span class=\"menu-provenance\">Herkunft Schweinefleisch: Schweiz</span>\\n\\t\\t\\t\\t\\t\\t\\t\\t\\t\\t\\n\\t\\t\\t\\t\\t\\t\\t\\t\\t</div>\\n\\t\\t\\t\\t\\t\\t\\t\\t</div>\\n\\t\\t\\t\\t\\t\\t\\t\\n\\t\\t\\t\\t\\t\\t</div>\\n\\t\\t\\t\\t\\t\\n\\t\\t\\t\\t\\t\\t<div id=\"menu-plan-tab2\" class=\"menu-plan-grid\">\\n\\t\\t\\t\\t\\t\\t\\t\\n\\t\\t\\t\\t\\t\\t\\t\\t<div class=\"menu-item\">\\n\\t\\t\\t\\t\\t\\t\\t\\t\\t<div class=\"item-content\">\\n\\t\\t\\t\\t\\t\\t\\t\\t\\t\\t\\n\\t\\t\\t\\t\\t\\t\\t\\t\\t\\t<h2 class=\"menu-title\">Frische Pasta</h2>\\n\\t\\t\\t\\t\\t\\t\\t\\t\\t\\t<span class=\"divider\"></span>\\n\\t\\t\\t\\t\\t\\t\\t\\t\\t\\t<p class=\"menu-description\">mit Lachsw\\xc3\\xbcrfel, Dill, Pack Joy und Parmesan</p>\\n\\t\\t\\t\\t\\t\\t\\t\\t\\t\\t<div class=\"menu-prices prices-3\">\\n\\t\\t\\t\\t\\t\\t\\t\\t\\t\\t\\t\\n\\t\\t\\t\\t\\t\\t\\t\\t\\t\\t\\t\\t<span class=\"price\">\\n\\t\\t\\t\\t\\t\\t\\t\\t\\t\\t\\t\\t\\t<span class=\"val\">12.50</span>\\n\\t\\t\\t\\t\\t\\t\\t\\t\\t\\t\\t\\t\\t<span class=\"desc\">INT</span>\\n\\t\\t\\t\\t\\t\\t\\t\\t\\t\\t\\t\\t</span>\\n\\t\\t\\t\\t\\t\\t\\t\\t\\t\\t\\t\\n\\t\\t\\t\\t\\t\\t\\t\\t\\t\\t\\t\\t<span class=\"price\">\\n\\t\\t\\t\\t\\t\\t\\t\\t\\t\\t\\t\\t\\t<span class=\"val\">16.50</span>\\n\\t\\t\\t\\t\\t\\t\\t\\t\\t\\t\\t\\t\\t<span class=\"desc\">EXT</span>\\n\\t\\t\\t\\t\\t\\t\\t\\t\\t\\t\\t\\t</span>\\n\\t\\t\\t\\t\\t\\t\\t\\t\\t\\t\\t\\n\\t\\t\\t\\t\\t\\t\\t\\t\\t\\t</div>\\n\\t\\t\\t\\t\\t\\t\\t\\t\\t\\t\\n\\t\\t\\t\\t\\t\\t\\t\\t\\t\\t<span class=\"menu-provenance\">Herkunft Lachs MSC: Norwegen</span>\\n\\t\\t\\t\\t\\t\\t\\t\\t\\t\\t\\n\\t\\t\\t\\t\\t\\t\\t\\t\\t</div>\\n\\t\\t\\t\\t\\t\\t\\t\\t</div>\\n\\t\\t\\t\\t\\t\\t\\t\\n\\t\\t\\t\\t\\t\\t\\t\\t<div class=\"menu-item\">\\n\\t\\t\\t\\t\\t\\t\\t\\t\\t<div class=\"item-content\">\\n\\t\\t\\t\\t\\t\\t\\t\\t\\t\\t\\n\\t\\t\\t\\t\\t\\t\\t\\t\\t\\t<h2 class=\"menu-title\">Cipollata Spiess</h2>\\n\\t\\t\\t\\t\\t\\t\\t\\t\\t\\t<span class=\"divider\"></span>\\n\\t\\t\\t\\t\\t\\t\\t\\t\\t\\t<p class=\"menu-description\">dazu Weissweinrisotto und Knackerbsen</p>\\n\\t\\t\\t\\t\\t\\t\\t\\t\\t\\t<div class=\"menu-prices prices-3\">\\n\\t\\t\\t\\t\\t\\t\\t\\t\\t\\t\\t\\n\\t\\t\\t\\t\\t\\t\\t\\t\\t\\t\\t\\t<span class=\"price\">\\n\\t\\t\\t\\t\\t\\t\\t\\t\\t\\t\\t\\t\\t<span class=\"val\">8.50</span>\\n\\t\\t\\t\\t\\t\\t\\t\\t\\t\\t\\t\\t\\t<span class=\"desc\">INT</span>\\n\\t\\t\\t\\t\\t\\t\\t\\t\\t\\t\\t\\t</span>\\n\\t\\t\\t\\t\\t\\t\\t\\t\\t\\t\\t\\n\\t\\t\\t\\t\\t\\t\\t\\t\\t\\t\\t\\t<span class=\"price\">\\n\\t\\t\\t\\t\\t\\t\\t\\t\\t\\t\\t\\t\\t<span class=\"val\">11.50</span>\\n\\t\\t\\t\\t\\t\\t\\t\\t\\t\\t\\t\\t\\t<span class=\"desc\">EXT</span>\\n\\t\\t\\t\\t\\t\\t\\t\\t\\t\\t\\t\\t</span>\\n\\t\\t\\t\\t\\t\\t\\t\\t\\t\\t\\t\\n\\t\\t\\t\\t\\t\\t\\t\\t\\t\\t</div>\\n\\t\\t\\t\\t\\t\\t\\t\\t\\t\\t\\n\\t\\t\\t\\t\\t\\t\\t\\t\\t\\t<span class=\"menu-provenance\">Herkunft Kalb,-Schweinefleisch: Schweiz</span>\\n\\t\\t\\t\\t\\t\\t\\t\\t\\t\\t\\n\\t\\t\\t\\t\\t\\t\\t\\t\\t</div>\\n\\t\\t\\t\\t\\t\\t\\t\\t</div>\\n\\t\\t\\t\\t\\t\\t\\t\\n\\t\\t\\t\\t\\t\\t\\t\\t<div class=\"menu-item\">\\n\\t\\t\\t\\t\\t\\t\\t\\t\\t<div class=\"item-content\">\\n\\t\\t\\t\\t\\t\\t\\t\\t\\t\\t\\n\\t\\t\\t\\t\\t\\t\\t\\t\\t\\t<h2 class=\"menu-title\">Pilz Toast</h2>\\n\\t\\t\\t\\t\\t\\t\\t\\t\\t\\t<span class=\"divider\"></span>\\n\\t\\t\\t\\t\\t\\t\\t\\t\\t\\t<p class=\"menu-description\">mit gr\\xc3\\xbcnem Men\\xc3\\xbcsalat</p>\\n\\t\\t\\t\\t\\t\\t\\t\\t\\t\\t<div class=\"menu-prices prices-3\">\\n\\t\\t\\t\\t\\t\\t\\t\\t\\t\\t\\t\\n\\t\\t\\t\\t\\t\\t\\t\\t\\t\\t\\t\\t<span class=\"price\">\\n\\t\\t\\t\\t\\t\\t\\t\\t\\t\\t\\t\\t\\t<span class=\"val\">8.50</span>\\n\\t\\t\\t\\t\\t\\t\\t\\t\\t\\t\\t\\t\\t<span class=\"desc\">INT</span>\\n\\t\\t\\t\\t\\t\\t\\t\\t\\t\\t\\t\\t</span>\\n\\t\\t\\t\\t\\t\\t\\t\\t\\t\\t\\t\\n\\t\\t\\t\\t\\t\\t\\t\\t\\t\\t\\t\\t<span class=\"price\">\\n\\t\\t\\t\\t\\t\\t\\t\\t\\t\\t\\t\\t\\t<span class=\"val\">11.50</span>\\n\\t\\t\\t\\t\\t\\t\\t\\t\\t\\t\\t\\t\\t<span class=\"desc\">EXT</span>\\n\\t\\t\\t\\t\\t\\t\\t\\t\\t\\t\\t\\t</span>\\n\\t\\t\\t\\t\\t\\t\\t\\t\\t\\t\\t\\n\\t\\t\\t\\t\\t\\t\\t\\t\\t\\t</div>\\n\\t\\t\\t\\t\\t\\t\\t\\t\\t\\t\\n\\t\\t\\t\\t\\t\\t\\t\\t\\t\\t\\t<div class=\"menu-labels\">\\n\\t\\t\\t\\t\\t\\t\\t\\t\\t\\t\\t\\t\\n\\t\\t\\t\\t\\t\\t\\t\\t\\t\\t\\t\\t\\t\\n\\t\\t<span class=\"label label-vegetarian has-infobox\">\\n\\t\\t\\t<img class=\"onlyprint\" src=\"/typo3conf/ext/netv_svm_template/Resources/Public/media/images/icons/print/vegetarian.png\" width=\"121\" height=\"121\" alt=\"\" />\\n\\t\\t\\t<div class=\"label-info label-vegetarian \">\\n\\t\\t\\t\\t<a class=\"close\" href=\"#\"><i class=\"ico-close\"></i></a>\\n\\t\\t\\t\\t<div class=\"inner\">\\n\\t\\t\\t\\t\\t<p>Vegetarisch:<br />\\nDieses Menu beinhaltet weder Fleisch noch Fisch.</p>\\n\\t\\t\\t\\t\\t\\n\\t\\t\\t\\t\\t\\t\\n\\t\\t\\t\\t\\t\\t\\n\\t\\t\\t\\t\\t\\t\\n\\t\\t\\t\\t\\t\\t\\n\\t\\t\\t\\t\\t\\t\\t\\n\\t\\t\\t\\t\\t\\t\\n\\t\\t\\t\\t\\t\\n\\t\\t\\t\\t</div>\\n\\t\\t\\t</div>\\n\\t\\t</span>\\n\\t\\n\\t\\t\\t\\t\\t\\t\\t\\t\\t\\t\\t\\t\\n\\t\\t\\t\\t\\t\\t\\t\\t\\t\\t\\t\\t\\n\\t\\t\\t\\t\\t\\t\\t\\t\\t\\t\\t</div>\\n\\t\\t\\t\\t\\t\\t\\t\\t\\t\\t\\n\\t\\t\\t\\t\\t\\t\\t\\t\\t\\t<span class=\"menu-provenance\"></span>\\n\\t\\t\\t\\t\\t\\t\\t\\t\\t\\t\\n\\t\\t\\t\\t\\t\\t\\t\\t\\t</div>\\n\\t\\t\\t\\t\\t\\t\\t\\t</div>\\n\\t\\t\\t\\t\\t\\t\\t\\n\\t\\t\\t\\t\\t\\t\\t\\t<div class=\"menu-item\">\\n\\t\\t\\t\\t\\t\\t\\t\\t\\t<div class=\"item-content\">\\n\\t\\t\\t\\t\\t\\t\\t\\t\\t\\t\\n\\t\\t\\t\\t\\t\\t\\t\\t\\t\\t<h2 class=\"menu-title\">Chili con carne</h2>\\n\\t\\t\\t\\t\\t\\t\\t\\t\\t\\t<span class=\"divider\"></span>\\n\\t\\t\\t\\t\\t\\t\\t\\t\\t\\t<p class=\"menu-description\">mit einem B\\xc3\\xbcrli</p>\\n\\t\\t\\t\\t\\t\\t\\t\\t\\t\\t<div class=\"menu-prices prices-3\">\\n\\t\\t\\t\\t\\t\\t\\t\\t\\t\\t\\t\\n\\t\\t\\t\\t\\t\\t\\t\\t\\t\\t\\t\\t<span class=\"price\">\\n\\t\\t\\t\\t\\t\\t\\t\\t\\t\\t\\t\\t\\t<span class=\"val\">7.00</span>\\n\\t\\t\\t\\t\\t\\t\\t\\t\\t\\t\\t\\t\\t<span class=\"desc\">INT</span>\\n\\t\\t\\t\\t\\t\\t\\t\\t\\t\\t\\t\\t</span>\\n\\t\\t\\t\\t\\t\\t\\t\\t\\t\\t\\t\\n\\t\\t\\t\\t\\t\\t\\t\\t\\t\\t\\t\\t<span class=\"price\">\\n\\t\\t\\t\\t\\t\\t\\t\\t\\t\\t\\t\\t\\t<span class=\"val\">10.00</span>\\n\\t\\t\\t\\t\\t\\t\\t\\t\\t\\t\\t\\t\\t<span class=\"desc\">EXT</span>\\n\\t\\t\\t\\t\\t\\t\\t\\t\\t\\t\\t\\t</span>\\n\\t\\t\\t\\t\\t\\t\\t\\t\\t\\t\\t\\n\\t\\t\\t\\t\\t\\t\\t\\t\\t\\t</div>\\n\\t\\t\\t\\t\\t\\t\\t\\t\\t\\t\\n\\t\\t\\t\\t\\t\\t\\t\\t\\t\\t<span class=\"menu-provenance\">Herkunft Rindfleisch: Schweiz</span>\\n\\t\\t\\t\\t\\t\\t\\t\\t\\t\\t\\n\\t\\t\\t\\t\\t\\t\\t\\t\\t</div>\\n\\t\\t\\t\\t\\t\\t\\t\\t</div>\\n\\t\\t\\t\\t\\t\\t\\t\\n\\t\\t\\t\\t\\t\\t</div>\\n\\t\\t\\t\\t\\t\\n\\t\\t\\t\\t\\t\\t<div id=\"menu-plan-tab3\" class=\"menu-plan-grid\">\\n\\t\\t\\t\\t\\t\\t\\t\\n\\t\\t\\t\\t\\t\\t\\t\\t<div class=\"menu-item\">\\n\\t\\t\\t\\t\\t\\t\\t\\t\\t<div class=\"item-content\">\\n\\t\\t\\t\\t\\t\\t\\t\\t\\t\\t\\n\\t\\t\\t\\t\\t\\t\\t\\t\\t\\t<h2 class=\"menu-title\">Chicken Wings</h2>\\n\\t\\t\\t\\t\\t\\t\\t\\t\\t\\t<span class=\"divider\"></span>\\n\\t\\t\\t\\t\\t\\t\\t\\t\\t\\t<p class=\"menu-description\">dazu BBQ-Sauce,  Wedges und Cole slaw</p>\\n\\t\\t\\t\\t\\t\\t\\t\\t\\t\\t<div class=\"menu-prices prices-3\">\\n\\t\\t\\t\\t\\t\\t\\t\\t\\t\\t\\t\\n\\t\\t\\t\\t\\t\\t\\t\\t\\t\\t\\t\\t<span class=\"price\">\\n\\t\\t\\t\\t\\t\\t\\t\\t\\t\\t\\t\\t\\t<span class=\"val\">12.50</span>\\n\\t\\t\\t\\t\\t\\t\\t\\t\\t\\t\\t\\t\\t<span class=\"desc\">INT</span>\\n\\t\\t\\t\\t\\t\\t\\t\\t\\t\\t\\t\\t</span>\\n\\t\\t\\t\\t\\t\\t\\t\\t\\t\\t\\t\\n\\t\\t\\t\\t\\t\\t\\t\\t\\t\\t\\t\\t<span class=\"price\">\\n\\t\\t\\t\\t\\t\\t\\t\\t\\t\\t\\t\\t\\t<span class=\"val\">16.50</span>\\n\\t\\t\\t\\t\\t\\t\\t\\t\\t\\t\\t\\t\\t<span class=\"desc\">EXT</span>\\n\\t\\t\\t\\t\\t\\t\\t\\t\\t\\t\\t\\t</span>\\n\\t\\t\\t\\t\\t\\t\\t\\t\\t\\t\\t\\n\\t\\t\\t\\t\\t\\t\\t\\t\\t\\t</div>\\n\\t\\t\\t\\t\\t\\t\\t\\t\\t\\t\\n\\t\\t\\t\\t\\t\\t\\t\\t\\t\\t<span class=\"menu-provenance\">Herkunft Poulet: Schweiz</span>\\n\\t\\t\\t\\t\\t\\t\\t\\t\\t\\t\\n\\t\\t\\t\\t\\t\\t\\t\\t\\t</div>\\n\\t\\t\\t\\t\\t\\t\\t\\t</div>\\n\\t\\t\\t\\t\\t\\t\\t\\n\\t\\t\\t\\t\\t\\t\\t\\t<div class=\"menu-item\">\\n\\t\\t\\t\\t\\t\\t\\t\\t\\t<div class=\"item-content\">\\n\\t\\t\\t\\t\\t\\t\\t\\t\\t\\t\\n\\t\\t\\t\\t\\t\\t\\t\\t\\t\\t<h2 class=\"menu-title\">MSC Meerfisch&shy;knusperli</h2>\\n\\t\\t\\t\\t\\t\\t\\t\\t\\t\\t<span class=\"divider\"></span>\\n\\t\\t\\t\\t\\t\\t\\t\\t\\t\\t<p class=\"menu-description\">dazu Tartarsauce, Kr\\xc3\\xa4uterkartoffeln und Blattmangold</p>\\n\\t\\t\\t\\t\\t\\t\\t\\t\\t\\t<div class=\"menu-prices prices-3\">\\n\\t\\t\\t\\t\\t\\t\\t\\t\\t\\t\\t\\n\\t\\t\\t\\t\\t\\t\\t\\t\\t\\t\\t\\t<span class=\"price\">\\n\\t\\t\\t\\t\\t\\t\\t\\t\\t\\t\\t\\t\\t<span class=\"val\">8.50</span>\\n\\t\\t\\t\\t\\t\\t\\t\\t\\t\\t\\t\\t\\t<span class=\"desc\">INT</span>\\n\\t\\t\\t\\t\\t\\t\\t\\t\\t\\t\\t\\t</span>\\n\\t\\t\\t\\t\\t\\t\\t\\t\\t\\t\\t\\n\\t\\t\\t\\t\\t\\t\\t\\t\\t\\t\\t\\t<span class=\"price\">\\n\\t\\t\\t\\t\\t\\t\\t\\t\\t\\t\\t\\t\\t<span class=\"val\">11.50</span>\\n\\t\\t\\t\\t\\t\\t\\t\\t\\t\\t\\t\\t\\t<span class=\"desc\">EXT</span>\\n\\t\\t\\t\\t\\t\\t\\t\\t\\t\\t\\t\\t</span>\\n\\t\\t\\t\\t\\t\\t\\t\\t\\t\\t\\t\\n\\t\\t\\t\\t\\t\\t\\t\\t\\t\\t</div>\\n\\t\\t\\t\\t\\t\\t\\t\\t\\t\\t\\n\\t\\t\\t\\t\\t\\t\\t\\t\\t\\t<span class=\"menu-provenance\">Herkunft Seelachs MSC: Alaska</span>\\n\\t\\t\\t\\t\\t\\t\\t\\t\\t\\t\\n\\t\\t\\t\\t\\t\\t\\t\\t\\t</div>\\n\\t\\t\\t\\t\\t\\t\\t\\t</div>\\n\\t\\t\\t\\t\\t\\t\\t\\n\\t\\t\\t\\t\\t\\t\\t\\t<div class=\"menu-item\">\\n\\t\\t\\t\\t\\t\\t\\t\\t\\t<div class=\"item-content\">\\n\\t\\t\\t\\t\\t\\t\\t\\t\\t\\t\\n\\t\\t\\t\\t\\t\\t\\t\\t\\t\\t<h2 class=\"menu-title\">Girasoli mit K\\xc3\\xbcrbis</h2>\\n\\t\\t\\t\\t\\t\\t\\t\\t\\t\\t<span class=\"divider\"></span>\\n\\t\\t\\t\\t\\t\\t\\t\\t\\t\\t<p class=\"menu-description\">dazu Ricottasauce mit Salbei und Men\\xc3\\xbcsalat</p>\\n\\t\\t\\t\\t\\t\\t\\t\\t\\t\\t<div class=\"menu-prices prices-3\">\\n\\t\\t\\t\\t\\t\\t\\t\\t\\t\\t\\t\\n\\t\\t\\t\\t\\t\\t\\t\\t\\t\\t\\t\\t<span class=\"price\">\\n\\t\\t\\t\\t\\t\\t\\t\\t\\t\\t\\t\\t\\t<span class=\"val\">8.50</span>\\n\\t\\t\\t\\t\\t\\t\\t\\t\\t\\t\\t\\t\\t<span class=\"desc\">INT</span>\\n\\t\\t\\t\\t\\t\\t\\t\\t\\t\\t\\t\\t</span>\\n\\t\\t\\t\\t\\t\\t\\t\\t\\t\\t\\t\\n\\t\\t\\t\\t\\t\\t\\t\\t\\t\\t\\t\\t<span class=\"price\">\\n\\t\\t\\t\\t\\t\\t\\t\\t\\t\\t\\t\\t\\t<span class=\"val\">11.50</span>\\n\\t\\t\\t\\t\\t\\t\\t\\t\\t\\t\\t\\t\\t<span class=\"desc\">EXT</span>\\n\\t\\t\\t\\t\\t\\t\\t\\t\\t\\t\\t\\t</span>\\n\\t\\t\\t\\t\\t\\t\\t\\t\\t\\t\\t\\n\\t\\t\\t\\t\\t\\t\\t\\t\\t\\t</div>\\n\\t\\t\\t\\t\\t\\t\\t\\t\\t\\t\\n\\t\\t\\t\\t\\t\\t\\t\\t\\t\\t\\t<div class=\"menu-labels\">\\n\\t\\t\\t\\t\\t\\t\\t\\t\\t\\t\\t\\t\\n\\t\\t\\t\\t\\t\\t\\t\\t\\t\\t\\t\\t\\t\\n\\t\\t<span class=\"label label-vegetarian has-infobox\">\\n\\t\\t\\t<img class=\"onlyprint\" src=\"/typo3conf/ext/netv_svm_template/Resources/Public/media/images/icons/print/vegetarian.png\" width=\"121\" height=\"121\" alt=\"\" />\\n\\t\\t\\t<div class=\"label-info label-vegetarian \">\\n\\t\\t\\t\\t<a class=\"close\" href=\"#\"><i class=\"ico-close\"></i></a>\\n\\t\\t\\t\\t<div class=\"inner\">\\n\\t\\t\\t\\t\\t<p>Vegetarisch:<br />\\nDieses Menu beinhaltet weder Fleisch noch Fisch.</p>\\n\\t\\t\\t\\t\\t\\n\\t\\t\\t\\t\\t\\t\\n\\t\\t\\t\\t\\t\\t\\n\\t\\t\\t\\t\\t\\t\\n\\t\\t\\t\\t\\t\\t\\n\\t\\t\\t\\t\\t\\t\\t\\n\\t\\t\\t\\t\\t\\t\\n\\t\\t\\t\\t\\t\\n\\t\\t\\t\\t</div>\\n\\t\\t\\t</div>\\n\\t\\t</span>\\n\\t\\n\\t\\t\\t\\t\\t\\t\\t\\t\\t\\t\\t\\t\\n\\t\\t\\t\\t\\t\\t\\t\\t\\t\\t\\t\\t\\n\\t\\t\\t\\t\\t\\t\\t\\t\\t\\t\\t</div>\\n\\t\\t\\t\\t\\t\\t\\t\\t\\t\\t\\n\\t\\t\\t\\t\\t\\t\\t\\t\\t\\t<span class=\"menu-provenance\"></span>\\n\\t\\t\\t\\t\\t\\t\\t\\t\\t\\t\\n\\t\\t\\t\\t\\t\\t\\t\\t\\t</div>\\n\\t\\t\\t\\t\\t\\t\\t\\t</div>\\n\\t\\t\\t\\t\\t\\t\\t\\n\\t\\t\\t\\t\\t\\t\\t\\t<div class=\"menu-item\">\\n\\t\\t\\t\\t\\t\\t\\t\\t\\t<div class=\"item-content\">\\n\\t\\t\\t\\t\\t\\t\\t\\t\\t\\t\\n\\t\\t\\t\\t\\t\\t\\t\\t\\t\\t<h2 class=\"menu-title\">Linsen Eintopf</h2>\\n\\t\\t\\t\\t\\t\\t\\t\\t\\t\\t<span class=\"divider\"></span>\\n\\t\\t\\t\\t\\t\\t\\t\\t\\t\\t<p class=\"menu-description\">mit Wienerli</p>\\n\\t\\t\\t\\t\\t\\t\\t\\t\\t\\t<div class=\"menu-prices prices-3\">\\n\\t\\t\\t\\t\\t\\t\\t\\t\\t\\t\\t\\n\\t\\t\\t\\t\\t\\t\\t\\t\\t\\t\\t\\t<span class=\"price\">\\n\\t\\t\\t\\t\\t\\t\\t\\t\\t\\t\\t\\t\\t<span class=\"val\">7.00</span>\\n\\t\\t\\t\\t\\t\\t\\t\\t\\t\\t\\t\\t\\t<span class=\"desc\">INT</span>\\n\\t\\t\\t\\t\\t\\t\\t\\t\\t\\t\\t\\t</span>\\n\\t\\t\\t\\t\\t\\t\\t\\t\\t\\t\\t\\n\\t\\t\\t\\t\\t\\t\\t\\t\\t\\t\\t\\t<span class=\"price\">\\n\\t\\t\\t\\t\\t\\t\\t\\t\\t\\t\\t\\t\\t<span class=\"val\">10.00</span>\\n\\t\\t\\t\\t\\t\\t\\t\\t\\t\\t\\t\\t\\t<span class=\"desc\">EXT</span>\\n\\t\\t\\t\\t\\t\\t\\t\\t\\t\\t\\t\\t</span>\\n\\t\\t\\t\\t\\t\\t\\t\\t\\t\\t\\t\\n\\t\\t\\t\\t\\t\\t\\t\\t\\t\\t</div>\\n\\t\\t\\t\\t\\t\\t\\t\\t\\t\\t\\n\\t\\t\\t\\t\\t\\t\\t\\t\\t\\t<span class=\"menu-provenance\">Herkunft Schweinefleisch: Schweiz</span>\\n\\t\\t\\t\\t\\t\\t\\t\\t\\t\\t\\n\\t\\t\\t\\t\\t\\t\\t\\t\\t</div>\\n\\t\\t\\t\\t\\t\\t\\t\\t</div>\\n\\t\\t\\t\\t\\t\\t\\t\\n\\t\\t\\t\\t\\t\\t</div>\\n\\t\\t\\t\\t\\t\\n\\t\\t\\t\\t\\t\\t<div id=\"menu-plan-tab4\" class=\"menu-plan-grid\">\\n\\t\\t\\t\\t\\t\\t\\t\\n\\t\\t\\t\\t\\t\\t\\t\\t<div class=\"menu-item\">\\n\\t\\t\\t\\t\\t\\t\\t\\t\\t<div class=\"item-content\">\\n\\t\\t\\t\\t\\t\\t\\t\\t\\t\\t\\n\\t\\t\\t\\t\\t\\t\\t\\t\\t\\t<h2 class=\"menu-title\">Roastbeef</h2>\\n\\t\\t\\t\\t\\t\\t\\t\\t\\t\\t<span class=\"divider\"></span>\\n\\t\\t\\t\\t\\t\\t\\t\\t\\t\\t<p class=\"menu-description\">an Sauce B\\xc3\\xa9arnaise, Pommes Dauphine und Grilltomate</p>\\n\\t\\t\\t\\t\\t\\t\\t\\t\\t\\t<div class=\"menu-prices prices-3\">\\n\\t\\t\\t\\t\\t\\t\\t\\t\\t\\t\\t\\n\\t\\t\\t\\t\\t\\t\\t\\t\\t\\t\\t\\t<span class=\"price\">\\n\\t\\t\\t\\t\\t\\t\\t\\t\\t\\t\\t\\t\\t<span class=\"val\">15.50</span>\\n\\t\\t\\t\\t\\t\\t\\t\\t\\t\\t\\t\\t\\t<span class=\"desc\">INT</span>\\n\\t\\t\\t\\t\\t\\t\\t\\t\\t\\t\\t\\t</span>\\n\\t\\t\\t\\t\\t\\t\\t\\t\\t\\t\\t\\n\\t\\t\\t\\t\\t\\t\\t\\t\\t\\t\\t\\t<span class=\"price\">\\n\\t\\t\\t\\t\\t\\t\\t\\t\\t\\t\\t\\t\\t<span class=\"val\">19.50</span>\\n\\t\\t\\t\\t\\t\\t\\t\\t\\t\\t\\t\\t\\t<span class=\"desc\">EXT</span>\\n\\t\\t\\t\\t\\t\\t\\t\\t\\t\\t\\t\\t</span>\\n\\t\\t\\t\\t\\t\\t\\t\\t\\t\\t\\t\\n\\t\\t\\t\\t\\t\\t\\t\\t\\t\\t</div>\\n\\t\\t\\t\\t\\t\\t\\t\\t\\t\\t\\n\\t\\t\\t\\t\\t\\t\\t\\t\\t\\t<span class=\"menu-provenance\">Herkunft Rindfleisch: Schweiz</span>\\n\\t\\t\\t\\t\\t\\t\\t\\t\\t\\t\\n\\t\\t\\t\\t\\t\\t\\t\\t\\t</div>\\n\\t\\t\\t\\t\\t\\t\\t\\t</div>\\n\\t\\t\\t\\t\\t\\t\\t\\n\\t\\t\\t\\t\\t\\t\\t\\t<div class=\"menu-item\">\\n\\t\\t\\t\\t\\t\\t\\t\\t\\t<div class=\"item-content\">\\n\\t\\t\\t\\t\\t\\t\\t\\t\\t\\t\\n\\t\\t\\t\\t\\t\\t\\t\\t\\t\\t<h2 class=\"menu-title\">Schweizer Poulet Ragout</h2>\\n\\t\\t\\t\\t\\t\\t\\t\\t\\t\\t<span class=\"divider\"></span>\\n\\t\\t\\t\\t\\t\\t\\t\\t\\t\\t<p class=\"menu-description\">dazu Mango-Currysauce, Basmatireis, Kefen mit  Erdnussbutter</p>\\n\\t\\t\\t\\t\\t\\t\\t\\t\\t\\t<div class=\"menu-prices prices-3\">\\n\\t\\t\\t\\t\\t\\t\\t\\t\\t\\t\\t\\n\\t\\t\\t\\t\\t\\t\\t\\t\\t\\t\\t\\t<span class=\"price\">\\n\\t\\t\\t\\t\\t\\t\\t\\t\\t\\t\\t\\t\\t<span class=\"val\">8.50</span>\\n\\t\\t\\t\\t\\t\\t\\t\\t\\t\\t\\t\\t\\t<span class=\"desc\">INT</span>\\n\\t\\t\\t\\t\\t\\t\\t\\t\\t\\t\\t\\t</span>\\n\\t\\t\\t\\t\\t\\t\\t\\t\\t\\t\\t\\n\\t\\t\\t\\t\\t\\t\\t\\t\\t\\t\\t\\t<span class=\"price\">\\n\\t\\t\\t\\t\\t\\t\\t\\t\\t\\t\\t\\t\\t<span class=\"val\">11.50</span>\\n\\t\\t\\t\\t\\t\\t\\t\\t\\t\\t\\t\\t\\t<span class=\"desc\">EXT</span>\\n\\t\\t\\t\\t\\t\\t\\t\\t\\t\\t\\t\\t</span>\\n\\t\\t\\t\\t\\t\\t\\t\\t\\t\\t\\t\\n\\t\\t\\t\\t\\t\\t\\t\\t\\t\\t</div>\\n\\t\\t\\t\\t\\t\\t\\t\\t\\t\\t\\n\\t\\t\\t\\t\\t\\t\\t\\t\\t\\t<span class=\"menu-provenance\">Herkunft Poulet: Schweiz</span>\\n\\t\\t\\t\\t\\t\\t\\t\\t\\t\\t\\n\\t\\t\\t\\t\\t\\t\\t\\t\\t</div>\\n\\t\\t\\t\\t\\t\\t\\t\\t</div>\\n\\t\\t\\t\\t\\t\\t\\t\\n\\t\\t\\t\\t\\t\\t\\t\\t<div class=\"menu-item\">\\n\\t\\t\\t\\t\\t\\t\\t\\t\\t<div class=\"item-content\">\\n\\t\\t\\t\\t\\t\\t\\t\\t\\t\\t\\n\\t\\t\\t\\t\\t\\t\\t\\t\\t\\t<h2 class=\"menu-title\">Geschmorte Kohlroulade</h2>\\n\\t\\t\\t\\t\\t\\t\\t\\t\\t\\t<span class=\"divider\"></span>\\n\\t\\t\\t\\t\\t\\t\\t\\t\\t\\t<p class=\"menu-description\">mit Ebly und Peperonata</p>\\n\\t\\t\\t\\t\\t\\t\\t\\t\\t\\t<div class=\"menu-prices prices-3\">\\n\\t\\t\\t\\t\\t\\t\\t\\t\\t\\t\\t\\n\\t\\t\\t\\t\\t\\t\\t\\t\\t\\t\\t\\t<span class=\"price\">\\n\\t\\t\\t\\t\\t\\t\\t\\t\\t\\t\\t\\t\\t<span class=\"val\">8.50</span>\\n\\t\\t\\t\\t\\t\\t\\t\\t\\t\\t\\t\\t\\t<span class=\"desc\">INT</span>\\n\\t\\t\\t\\t\\t\\t\\t\\t\\t\\t\\t\\t</span>\\n\\t\\t\\t\\t\\t\\t\\t\\t\\t\\t\\t\\n\\t\\t\\t\\t\\t\\t\\t\\t\\t\\t\\t\\t<span class=\"price\">\\n\\t\\t\\t\\t\\t\\t\\t\\t\\t\\t\\t\\t\\t<span class=\"val\">11.50</span>\\n\\t\\t\\t\\t\\t\\t\\t\\t\\t\\t\\t\\t\\t<span class=\"desc\">EXT</span>\\n\\t\\t\\t\\t\\t\\t\\t\\t\\t\\t\\t\\t</span>\\n\\t\\t\\t\\t\\t\\t\\t\\t\\t\\t\\t\\n\\t\\t\\t\\t\\t\\t\\t\\t\\t\\t</div>\\n\\t\\t\\t\\t\\t\\t\\t\\t\\t\\t\\n\\t\\t\\t\\t\\t\\t\\t\\t\\t\\t\\t<div class=\"menu-labels\">\\n\\t\\t\\t\\t\\t\\t\\t\\t\\t\\t\\t\\t\\n\\t\\t\\t\\t\\t\\t\\t\\t\\t\\t\\t\\t\\t\\n\\t\\t<span class=\"label label-vegetarian has-infobox\">\\n\\t\\t\\t<img class=\"onlyprint\" src=\"/typo3conf/ext/netv_svm_template/Resources/Public/media/images/icons/print/vegetarian.png\" width=\"121\" height=\"121\" alt=\"\" />\\n\\t\\t\\t<div class=\"label-info label-vegetarian \">\\n\\t\\t\\t\\t<a class=\"close\" href=\"#\"><i class=\"ico-close\"></i></a>\\n\\t\\t\\t\\t<div class=\"inner\">\\n\\t\\t\\t\\t\\t<p>Vegetarisch:<br />\\nDieses Menu beinhaltet weder Fleisch noch Fisch.</p>\\n\\t\\t\\t\\t\\t\\n\\t\\t\\t\\t\\t\\t\\n\\t\\t\\t\\t\\t\\t\\n\\t\\t\\t\\t\\t\\t\\n\\t\\t\\t\\t\\t\\t\\n\\t\\t\\t\\t\\t\\t\\t\\n\\t\\t\\t\\t\\t\\t\\n\\t\\t\\t\\t\\t\\n\\t\\t\\t\\t</div>\\n\\t\\t\\t</div>\\n\\t\\t</span>\\n\\t\\n\\t\\t\\t\\t\\t\\t\\t\\t\\t\\t\\t\\t\\n\\t\\t\\t\\t\\t\\t\\t\\t\\t\\t\\t\\t\\n\\t\\t\\t\\t\\t\\t\\t\\t\\t\\t\\t</div>\\n\\t\\t\\t\\t\\t\\t\\t\\t\\t\\t\\n\\t\\t\\t\\t\\t\\t\\t\\t\\t\\t<span class=\"menu-provenance\"></span>\\n\\t\\t\\t\\t\\t\\t\\t\\t\\t\\t\\n\\t\\t\\t\\t\\t\\t\\t\\t\\t</div>\\n\\t\\t\\t\\t\\t\\t\\t\\t</div>\\n\\t\\t\\t\\t\\t\\t\\t\\n\\t\\t\\t\\t\\t\\t\\t\\t<div class=\"menu-item\">\\n\\t\\t\\t\\t\\t\\t\\t\\t\\t<div class=\"item-content\">\\n\\t\\t\\t\\t\\t\\t\\t\\t\\t\\t\\n\\t\\t\\t\\t\\t\\t\\t\\t\\t\\t<h2 class=\"menu-title\">Arbeiter Cordon-Bleu</h2>\\n\\t\\t\\t\\t\\t\\t\\t\\t\\t\\t<span class=\"divider\"></span>\\n\\t\\t\\t\\t\\t\\t\\t\\t\\t\\t<p class=\"menu-description\">mit Bratkartoffeln</p>\\n\\t\\t\\t\\t\\t\\t\\t\\t\\t\\t<div class=\"menu-prices prices-3\">\\n\\t\\t\\t\\t\\t\\t\\t\\t\\t\\t\\t\\n\\t\\t\\t\\t\\t\\t\\t\\t\\t\\t\\t\\t<span class=\"price\">\\n\\t\\t\\t\\t\\t\\t\\t\\t\\t\\t\\t\\t\\t<span class=\"val\">7.00</span>\\n\\t\\t\\t\\t\\t\\t\\t\\t\\t\\t\\t\\t\\t<span class=\"desc\">INT</span>\\n\\t\\t\\t\\t\\t\\t\\t\\t\\t\\t\\t\\t</span>\\n\\t\\t\\t\\t\\t\\t\\t\\t\\t\\t\\t\\n\\t\\t\\t\\t\\t\\t\\t\\t\\t\\t\\t\\t<span class=\"price\">\\n\\t\\t\\t\\t\\t\\t\\t\\t\\t\\t\\t\\t\\t<span class=\"val\">10.00</span>\\n\\t\\t\\t\\t\\t\\t\\t\\t\\t\\t\\t\\t\\t<span class=\"desc\">EXT</span>\\n\\t\\t\\t\\t\\t\\t\\t\\t\\t\\t\\t\\t</span>\\n\\t\\t\\t\\t\\t\\t\\t\\t\\t\\t\\t\\n\\t\\t\\t\\t\\t\\t\\t\\t\\t\\t</div>\\n\\t\\t\\t\\t\\t\\t\\t\\t\\t\\t\\n\\t\\t\\t\\t\\t\\t\\t\\t\\t\\t<span class=\"menu-provenance\">Herkunft Schweinefleisch: Schweiz</span>\\n\\t\\t\\t\\t\\t\\t\\t\\t\\t\\t\\n\\t\\t\\t\\t\\t\\t\\t\\t\\t</div>\\n\\t\\t\\t\\t\\t\\t\\t\\t</div>\\n\\t\\t\\t\\t\\t\\t\\t\\n\\t\\t\\t\\t\\t\\t</div>\\n\\t\\t\\t\\t\\t\\n\\t\\t\\t\\t\\t\\t<div id=\"menu-plan-tab5\" class=\"menu-plan-grid\">\\n\\t\\t\\t\\t\\t\\t\\t\\n\\t\\t\\t\\t\\t\\t\\t\\t<div class=\"menu-item\">\\n\\t\\t\\t\\t\\t\\t\\t\\t\\t<div class=\"item-content\">\\n\\t\\t\\t\\t\\t\\t\\t\\t\\t\\t\\n\\t\\t\\t\\t\\t\\t\\t\\t\\t\\t<h2 class=\"menu-title\">.</h2>\\n\\t\\t\\t\\t\\t\\t\\t\\t\\t\\t<span class=\"divider\"></span>\\n\\t\\t\\t\\t\\t\\t\\t\\t\\t\\t<p class=\"menu-description\"></p>\\n\\t\\t\\t\\t\\t\\t\\t\\t\\t\\t<div class=\"menu-prices prices-3\">\\n\\t\\t\\t\\t\\t\\t\\t\\t\\t\\t\\t\\n\\t\\t\\t\\t\\t\\t\\t\\t\\t\\t</div>\\n\\t\\t\\t\\t\\t\\t\\t\\t\\t\\t\\n\\t\\t\\t\\t\\t\\t\\t\\t\\t\\t<span class=\"menu-provenance\"></span>\\n\\t\\t\\t\\t\\t\\t\\t\\t\\t\\t\\n\\t\\t\\t\\t\\t\\t\\t\\t\\t</div>\\n\\t\\t\\t\\t\\t\\t\\t\\t</div>\\n\\t\\t\\t\\t\\t\\t\\t\\n\\t\\t\\t\\t\\t\\t\\t\\t<div class=\"menu-item\">\\n\\t\\t\\t\\t\\t\\t\\t\\t\\t<div class=\"item-content\">\\n\\t\\t\\t\\t\\t\\t\\t\\t\\t\\t\\n\\t\\t\\t\\t\\t\\t\\t\\t\\t\\t<h2 class=\"menu-title\">Pasta Plausch</h2>\\n\\t\\t\\t\\t\\t\\t\\t\\t\\t\\t<span class=\"divider\"></span>\\n\\t\\t\\t\\t\\t\\t\\t\\t\\t\\t<p class=\"menu-description\">Bolognese oder Carbonara und Men\\xc3\\xbcsalat</p>\\n\\t\\t\\t\\t\\t\\t\\t\\t\\t\\t<div class=\"menu-prices prices-3\">\\n\\t\\t\\t\\t\\t\\t\\t\\t\\t\\t\\t\\n\\t\\t\\t\\t\\t\\t\\t\\t\\t\\t\\t\\t<span class=\"price\">\\n\\t\\t\\t\\t\\t\\t\\t\\t\\t\\t\\t\\t\\t<span class=\"val\">8.50</span>\\n\\t\\t\\t\\t\\t\\t\\t\\t\\t\\t\\t\\t\\t<span class=\"desc\">INT</span>\\n\\t\\t\\t\\t\\t\\t\\t\\t\\t\\t\\t\\t</span>\\n\\t\\t\\t\\t\\t\\t\\t\\t\\t\\t\\t\\n\\t\\t\\t\\t\\t\\t\\t\\t\\t\\t\\t\\t<span class=\"price\">\\n\\t\\t\\t\\t\\t\\t\\t\\t\\t\\t\\t\\t\\t<span class=\"val\">11.50</span>\\n\\t\\t\\t\\t\\t\\t\\t\\t\\t\\t\\t\\t\\t<span class=\"desc\">EXT</span>\\n\\t\\t\\t\\t\\t\\t\\t\\t\\t\\t\\t\\t</span>\\n\\t\\t\\t\\t\\t\\t\\t\\t\\t\\t\\t\\n\\t\\t\\t\\t\\t\\t\\t\\t\\t\\t</div>\\n\\t\\t\\t\\t\\t\\t\\t\\t\\t\\t\\n\\t\\t\\t\\t\\t\\t\\t\\t\\t\\t<span class=\"menu-provenance\">Herkunft Rind,-Schweinefleisch: Schweiz</span>\\n\\t\\t\\t\\t\\t\\t\\t\\t\\t\\t\\n\\t\\t\\t\\t\\t\\t\\t\\t\\t</div>\\n\\t\\t\\t\\t\\t\\t\\t\\t</div>\\n\\t\\t\\t\\t\\t\\t\\t\\n\\t\\t\\t\\t\\t\\t\\t\\t<div class=\"menu-item\">\\n\\t\\t\\t\\t\\t\\t\\t\\t\\t<div class=\"item-content\">\\n\\t\\t\\t\\t\\t\\t\\t\\t\\t\\t\\n\\t\\t\\t\\t\\t\\t\\t\\t\\t\\t<h2 class=\"menu-title\">Pasta Plausch</h2>\\n\\t\\t\\t\\t\\t\\t\\t\\t\\t\\t<span class=\"divider\"></span>\\n\\t\\t\\t\\t\\t\\t\\t\\t\\t\\t<p class=\"menu-description\">mit Tomatensauce oder Pesto und Tagessalat</p>\\n\\t\\t\\t\\t\\t\\t\\t\\t\\t\\t<div class=\"menu-prices prices-3\">\\n\\t\\t\\t\\t\\t\\t\\t\\t\\t\\t\\t\\n\\t\\t\\t\\t\\t\\t\\t\\t\\t\\t\\t\\t<span class=\"price\">\\n\\t\\t\\t\\t\\t\\t\\t\\t\\t\\t\\t\\t\\t<span class=\"val\">8.50</span>\\n\\t\\t\\t\\t\\t\\t\\t\\t\\t\\t\\t\\t\\t<span class=\"desc\">INT</span>\\n\\t\\t\\t\\t\\t\\t\\t\\t\\t\\t\\t\\t</span>\\n\\t\\t\\t\\t\\t\\t\\t\\t\\t\\t\\t\\n\\t\\t\\t\\t\\t\\t\\t\\t\\t\\t\\t\\t<span class=\"price\">\\n\\t\\t\\t\\t\\t\\t\\t\\t\\t\\t\\t\\t\\t<span class=\"val\">11.50</span>\\n\\t\\t\\t\\t\\t\\t\\t\\t\\t\\t\\t\\t\\t<span class=\"desc\">EXT</span>\\n\\t\\t\\t\\t\\t\\t\\t\\t\\t\\t\\t\\t</span>\\n\\t\\t\\t\\t\\t\\t\\t\\t\\t\\t\\t\\n\\t\\t\\t\\t\\t\\t\\t\\t\\t\\t</div>\\n\\t\\t\\t\\t\\t\\t\\t\\t\\t\\t\\n\\t\\t\\t\\t\\t\\t\\t\\t\\t\\t<span class=\"menu-provenance\"></span>\\n\\t\\t\\t\\t\\t\\t\\t\\t\\t\\t\\n\\t\\t\\t\\t\\t\\t\\t\\t\\t</div>\\n\\t\\t\\t\\t\\t\\t\\t\\t</div>\\n\\t\\t\\t\\t\\t\\t\\t\\n\\t\\t\\t\\t\\t\\t\\t\\t<div class=\"menu-item\">\\n\\t\\t\\t\\t\\t\\t\\t\\t\\t<div class=\"item-content\">\\n\\t\\t\\t\\t\\t\\t\\t\\t\\t\\t\\n\\t\\t\\t\\t\\t\\t\\t\\t\\t\\t<h2 class=\"menu-title\">.</h2>\\n\\t\\t\\t\\t\\t\\t\\t\\t\\t\\t<span class=\"divider\"></span>\\n\\t\\t\\t\\t\\t\\t\\t\\t\\t\\t<p class=\"menu-description\"></p>\\n\\t\\t\\t\\t\\t\\t\\t\\t\\t\\t<div class=\"menu-prices prices-3\">\\n\\t\\t\\t\\t\\t\\t\\t\\t\\t\\t\\t\\n\\t\\t\\t\\t\\t\\t\\t\\t\\t\\t</div>\\n\\t\\t\\t\\t\\t\\t\\t\\t\\t\\t\\n\\t\\t\\t\\t\\t\\t\\t\\t\\t\\t<span class=\"menu-provenance\"></span>\\n\\t\\t\\t\\t\\t\\t\\t\\t\\t\\t\\n\\t\\t\\t\\t\\t\\t\\t\\t\\t</div>\\n\\t\\t\\t\\t\\t\\t\\t\\t</div>\\n\\t\\t\\t\\t\\t\\t\\t\\n\\t\\t\\t\\t\\t\\t</div>\\n\\t\\t\\t\\t\\t\\n\\t\\t\\t\\t\\n\\t\\t</div>\\n\\n\\t\\t\\n\\n\\t\\t<div class=\"menu-meta-nav\">\\n\\t\\t\\t<ul class=\"no-bullets is-horizontal\">\\n\\t\\t\\t\\t\\n\\t\\t\\t\\t\\t<li>\\n\\t\\t\\t\\t\\t\\t<a href=\"/uploads/tx_netvsvgmenu_mbs5/27824100/2020W37-de_27824100.pdf\" target=\"_blank\">\\n\\t\\t\\t\\t\\t\\t\\t<i class=\"ico ico-menu1\"></i>\\n\\t\\t\\t\\t\\t\\t\\t<span class=\"text\">Menuplan W37</span>\\n\\t\\t\\t\\t\\t\\t\\t<span class=\"link\">pdf</span>\\n\\t\\t\\t\\t\\t\\t</a>\\n\\t\\t\\t\\t\\t</li>\\n\\t\\t\\t\\t\\n\\t\\t\\t\\t<li>\\n\\t\\t\\t\\t\\t<a href=\"#\" class=\"trigger-newsletter\">\\n\\t\\t\\t\\t\\t\\t<i class=\"ico ico-menu-nl\"></i>\\n\\t\\t\\t\\t\\t\\t<span class=\"text\">Menu Newsletter</span>\\n\\t\\t\\t\\t\\t\\t<span class=\"link\">Anmelden</span>\\n\\t\\t\\t\\t\\t</a>\\n\\t\\t\\t\\t</li>\\n\\t\\t\\t\\t\\n\\t\\t\\t\\t\\t<li>\\n\\t\\t\\t\\t\\t\\t\\n\\t\\t\\t\\t\\t\\t\\t<a id=\"menu-plan-cal1\" rel=\"nofollow\" href=\"/de/menuplan/invite-friends/ics/1599530400/\">\\n\\t\\t\\t\\t\\t\\t\\t\\t<i class=\"ico ico-menu-ics\"></i>\\n\\t\\t\\t\\t\\t\\t\\t\\t<span class=\"text\">Essen mit Freunden</span>\\n\\t\\t\\t\\t\\t\\t\\t\\t<span class=\"link\">Einladen</span>\\n\\t\\t\\t\\t\\t\\t\\t</a>\\n\\t\\t\\t\\t\\t\\t\\n\\t\\t\\t\\t\\t\\t\\t<a id=\"menu-plan-cal2\" rel=\"nofollow\" href=\"/de/menuplan/invite-friends/ics/1599616800/\">\\n\\t\\t\\t\\t\\t\\t\\t\\t<i class=\"ico ico-menu-ics\"></i>\\n\\t\\t\\t\\t\\t\\t\\t\\t<span class=\"text\">Essen mit Freunden</span>\\n\\t\\t\\t\\t\\t\\t\\t\\t<span class=\"link\">Einladen</span>\\n\\t\\t\\t\\t\\t\\t\\t</a>\\n\\t\\t\\t\\t\\t\\t\\n\\t\\t\\t\\t\\t\\t\\t<a id=\"menu-plan-cal3\" rel=\"nofollow\" href=\"/de/menuplan/invite-friends/ics/1599703200/\">\\n\\t\\t\\t\\t\\t\\t\\t\\t<i class=\"ico ico-menu-ics\"></i>\\n\\t\\t\\t\\t\\t\\t\\t\\t<span class=\"text\">Essen mit Freunden</span>\\n\\t\\t\\t\\t\\t\\t\\t\\t<span class=\"link\">Einladen</span>\\n\\t\\t\\t\\t\\t\\t\\t</a>\\n\\t\\t\\t\\t\\t\\t\\n\\t\\t\\t\\t\\t\\t\\t<a id=\"menu-plan-cal4\" rel=\"nofollow\" href=\"/de/menuplan/invite-friends/ics/1599789600/\">\\n\\t\\t\\t\\t\\t\\t\\t\\t<i class=\"ico ico-menu-ics\"></i>\\n\\t\\t\\t\\t\\t\\t\\t\\t<span class=\"text\">Essen mit Freunden</span>\\n\\t\\t\\t\\t\\t\\t\\t\\t<span class=\"link\">Einladen</span>\\n\\t\\t\\t\\t\\t\\t\\t</a>\\n\\t\\t\\t\\t\\t\\t\\n\\t\\t\\t\\t\\t\\t\\t<a id=\"menu-plan-cal5\" rel=\"nofollow\" href=\"/de/menuplan/invite-friends/ics/1599876000/\">\\n\\t\\t\\t\\t\\t\\t\\t\\t<i class=\"ico ico-menu-ics\"></i>\\n\\t\\t\\t\\t\\t\\t\\t\\t<span class=\"text\">Essen mit Freunden</span>\\n\\t\\t\\t\\t\\t\\t\\t\\t<span class=\"link\">Einladen</span>\\n\\t\\t\\t\\t\\t\\t\\t</a>\\n\\t\\t\\t\\t\\t\\t\\n\\t\\t\\t\\t\\t</li>\\n\\t\\t\\t\\t\\n\\t\\t\\t</ul>\\n\\t\\t</div>\\n\\t</div>\\n</div>\\n\\n<div class=\"l-constrained l-content\">\\n\\t<div class=\"teaser-otw\">\\n\\t<div class=\"imageholder\">\\n\\t\\t<div class=\"logo\">\\n\\t\\t\\t<img src=\"/typo3conf/ext/netv_svm_onetwowe/Resources/Public/Icons/onetwowe.svg\" width=\"512\" height=\"512\" alt=\"\" />\\n\\t\\t</div>\\n\\t\\t\\n\\t\\t\\t<picture>\\n\\t\\t\\t\\t<source srcset=\"/fileadmin/_processed_/0/5/csm_erdbeeren_0305_Office_10162_6ff1fb94ec.jpg, /fileadmin/_processed_/0/5/csm_erdbeeren_0305_Office_10162_b1543989fb.jpg 2x\" media=\"(min-width: 48.0625em)\">\\n\\t\\t\\t\\t<source srcset=\"/fileadmin/_processed_/0/5/csm_erdbeeren_0305_Office_10162_dca25d4127.jpg, /fileadmin/_processed_/0/5/csm_erdbeeren_0305_Office_10162_a7468ce96a.jpg 2x\" media=\"(min-width: 26.3125em) and (max-width: 48em)\" />\\n\\t\\t\\t\\t<source srcset=\"/fileadmin/_processed_/0/5/csm_erdbeeren_0305_Office_10162_aceda6be63.jpg, /fileadmin/_processed_/0/5/csm_erdbeeren_0305_Office_10162_07e1cbca10.jpg 2x\" media=\"(max-width: 26.25em)\">\\n\\t\\t\\t\\t<img src=\"/fileadmin/_processed_/0/5/csm_erdbeeren_0305_Office_10162_6ff1fb94ec.jpg\" alt=\"\">\\n\\t\\t\\t</picture>\\n\\t\\t\\n\\t</div>\\n\\t<div class=\"textholder\">\\n\\t\\t<p class=\"meta\">\\n\\t\\t\\tAktuell\\n\\t\\t</p>\\n\\t\\t<div class=\"title do-dottify\">\\n\\t\\t\\t<span class=\"inner-dottify\">\\n\\t\\t\\t\\tDas Erdbeer-Tiramisu\\n\\t\\t\\t</span>\\n\\t\\t</div>\\n\\t\\t<div class=\"sub-link\">\\n\\t\\t\\t<a target=\"_blank\" href=\"http://www.one-two-we.ch/de/onetwowe/#!aktuell,208\">\\n\\t\\t\\t\\tMehr\\n\\t\\t\\t</a>\\n\\t\\t</div>\\n\\t\\t<div class=\"link\">\\n\\t\\t\\t<a target=\"_blank\" href=\"http://www.one-two-we.ch/de/onetwowe/\">\\n\\t\\t\\t\\tZur One Two We Website\\n\\t\\t\\t</a>\\n\\t\\t</div>\\n\\t</div>\\n</div>\\n</div>\\n\\n\\n\\n\\n\\n\\n\\t\\t<div id=\"newsletter-overlay\">\\n\\t\\t\\t<a href=\"#\" class=\"newsletter-close\" data-ajax-url=\"/de/menuplan/?type=66890\"><i></i></a>\\n\\t\\n            <div class=\"newsletter-container\">\\n                \\n                        \\n    <style>\\n      .newsletter-container {\\n        min-width:100%;\\n      }\\n      #nlSubscribeFrame {\\n        width: 1px;\\n        min-width: 100%;\\n        border: 0;\\n      }\\n    </style>\\n    <iframe src=\"https://menu-newsletter.sv-group.ch/pl/d1c/9ac7/1367/subscribe/de?id=27824100\" id=\"nlSubscribeFrame\"></iframe>\\n\\t<!-- this plugin registered iframe-resizer for RequireJS -->\\n\\t<!-- this plugin registered iframeresize for RequireJS -->\\n\\n                    \\n            </div>\\n\\n\\t\\t</div>\\n\\t\\n\\n\\n\\n\\n\\n</div></div></main><footer id=\"l-footer\"><div class=\"l-constrained l-full\"><div id=\"footerbar\"><div class=\"l-constrained l-wide\"><div class=\"footer-navigation-wrap\"><span class=\"footer-title\">\\n\\t\\t\\t\\t\\t\\tCampus Restaurant | FHNW Brugg-Windisch\\n\\t\\t\\t\\t\\t</span><div class=\"footer-navigation\"><nav class=\"footer-mainnav\"><ul class=\"no-bullets\"><li><a href=\"/de/menuplan/\" target=\"_self\" class=\"act\">Menuplan</a></li><li><a href=\"/de/catering/\" target=\"_self\">Catering</a></li><li><a href=\"/de/frisch-gesund/\" target=\"_self\">Frisch &amp; Gesund</a></li><li><a href=\"/de/ueber-uns/\" target=\"_self\">\\xc3\\x9cber uns</a></li></ul></nav><nav class=\"footer-metanav\"><ul class=\"no-bullets\"><li><a href=\"/de/feedback/\" target=\"_self\">Feedback</a></li><li><a href=\"/de/kontakt/\" target=\"_self\">Kontakt</a></li><li><a href=\"/de/disclaimer/\" target=\"_self\">Disclaimer</a></li><li><a href=\"/de/datenschutzerklaerung/\" target=\"_self\">Datenschutzerkl\\xc3\\xa4rung</a></li></ul></nav></div></div><div class=\"footer-opening-hours\"><span class=\"footer-title\">\\n\\t\\t\\t\\t\\t\\t\\t\\xc3\\x96ffnungszeiten\\n\\t\\t\\t\\t\\t\\t</span><div class=\"opening-hours\"><p><strong>Restaurant</strong><br/></p><p><strong>Montag bis Freitag</strong><br/>\\n\\t\\t11.00 - 13.30 Uhr\\n\\t</p><p><strong>Samstag</strong><br/>\\n\\t\\t11.30 - 13.00 Uhr\\n\\t</p><p><strong></strong><br/></p><p><strong>Campus Bar</strong><br/></p><p><strong>Montag bis Freitag</strong><br/>\\n\\t\\t07.00 - 19.00 Uhr\\n\\t</p><p><strong>Samstag</strong><br/>\\n\\t\\t07.00 - 17.00 Uhr\\n\\t</p><p><strong></strong><br/></p><p><strong></strong><br/></p><p><strong>Sonder\\xc3\\xb6ffnungzeiten FHNW:</strong><br/></p><p><strong>Juli, August und Feiertage</strong><br/></p><p><strong>www.fhnw.ch</strong><br/></p></div></div><div class=\"footer-logo\"><a href=\"/de/menuplan/\"><img src=\"/typo3conf/ext/netv_svm_template/Resources/Public/media/images/logos/default/logo.svg\" alt=\"logo\" /></a></div></div></div><div id=\"footer-meta\"><div class=\"l-constrained l-wide\"><div class=\"copyright\">\\n\\t\\t\\t\\xc2\\xa9&nbsp;<span itemprop=\"copyrightYear\">2020</span>&nbsp;<span itemprop=\"legalName\">Campus Restaurant | FHNW Brugg-Windisch</span></div></div></div></div></footer></div></div>\\n<!-- RequireJS module \"jquery.googleanalytics\" inserted by typoscript --><script>var gak = \\'UA-1431446-17\\';window.GoogleAnalyticsObject = \"__ga__\";\\n\\t\\t\\t\\twindow.__ga__ = {\\n\\t\\t\\t\\t\\tq: [[\\'create\\', gak , {\\'cookieDomain\\': \\'none\\'}],[\\'set\\', \\'forceSSL\\', true],[\\'set\\', \\'anonymizeIp\\', true],[\\'set\\', \\'language\\', \\'de\\'],[\\'send\\',\\'pageview\\']],\\n\\t\\t\\t\\t\\tl: Date.now()\\n\\t\\t\\t\\t};</script>\\n\\n<script src=\"/typo3temp/compressor/merged-e0aae1103f363b62d2d3c842deda2bce-b504eb8ee56eed1c6e20faa5f00d6edd.js.gzip?1583152294\" type=\"text/javascript\"></script>\\n\\n\\n<!-- pageid=9157-->\\n\\n</body>\\n</html>\n"
          ],
          "name": "stdout"
        }
      ]
    },
    {
      "cell_type": "markdown",
      "metadata": {
        "id": "qryF4voNYX5I"
      },
      "source": [
        "Finde was es heute zur Essensauswahl gibt"
      ]
    },
    {
      "cell_type": "code",
      "metadata": {
        "id": "l_u5FEPS_Vh-"
      },
      "source": [
        "# Parse html with relevant regexp"
      ],
      "execution_count": null,
      "outputs": []
    },
    {
      "cell_type": "markdown",
      "metadata": {
        "id": "tG74wHqlUXUU"
      },
      "source": [
        "Erweiterte Aufgabe: gib aus, was es diese Woche zur Auswahl gibt!"
      ]
    },
    {
      "cell_type": "code",
      "metadata": {
        "id": "6U2ffGEFUW4X"
      },
      "source": [],
      "execution_count": null,
      "outputs": []
    },
    {
      "cell_type": "markdown",
      "metadata": {
        "id": "Z-B8LE1lYvX8"
      },
      "source": []
    }
  ]
}